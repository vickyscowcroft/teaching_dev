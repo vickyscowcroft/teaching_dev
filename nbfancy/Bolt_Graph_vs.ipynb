{
 "cells": [
  {
   "cell_type": "markdown",
   "metadata": {},
   "source": [
    "<div class=\"w3-bar w3-blue-grey w3-padding\">\n",
    "    <h2 class=\"w3-bar-item w3-padding-32\"><!-- Text Here --></h2>\n",
    "    <img class=\"w3-bar-item w3-right\" src=\"data:image/png;base64,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\">\n",
    "</div>"
   ]
  },
  {
   "cell_type": "markdown",
   "metadata": {},
   "source": [
    "<div class=\"w3-panel w3-leftbar w3-border-green w3-pale-green w3-padding-small\">\n",
    "    <h3 id=\"-Overview%3A-Plotting-with-Python-in-the-%5BWL%5D-labs%0A\"><i class=\"fa fa-file-o\"></i> Overview: Plotting with Python in the [WL] labs\n",
    "</h3>\n",
    "    <p>Welcome to Sloan's python notebook to produce a reasonably nice graph for the [WL] labs. We will read in data, plot it, fit a linear function and then output the graph as a graphics file, here a png file.</p>\n",
    "</div>"
   ]
  },
  {
   "cell_type": "markdown",
   "metadata": {},
   "source": [
    "<div class=\"w3-panel w3-leftbar w3-border-blue w3-pale-blue w3-padding-small\">\n",
    "    <h3 id=\"--Jupyter-Notebooks%0A\"><i class=\"fa fa-info-circle\"></i> Jupyter Notebooks\n",
    "</h3>\n",
    "    <p>You can use jupyter notebooks like a lab book. It's important to write down what you're doing in your experiment and analysis; when you come back to a notebook at a later date with no recollection of what you did before, you'll thank your past self for making such clear notes.\n",
    "To \"run\" a cell, either press the <code>Run</code> button at the top, or press <code>Shift-Enter</code>.</p>\n",
    "</div>"
   ]
  },
  {
   "cell_type": "markdown",
   "metadata": {},
   "source": [
    "## A brief note about markdown\n",
    "Jupyter notebooks (i.e. the file you're working with now) allow for different types of 'cells'. Markdown cells (like this one) are great for documenting what you're doing. If you've ever posted on an internet forum, you've probably already used markdown, although you may not have realised it! \n",
    "\n",
    "You can make headings of different sizes using \\# at the start of a line.\n",
    "# big (\\#)\n",
    "## medium (\\##)\n",
    "### small (\\###)\n",
    "\n",
    "You can make text *italic* using one \\* at each end of the text. **Bold** uses two \\*\\*.\n",
    "\n",
    "Making lists is easy too!\n",
    "\n",
    "* bulleted lists \n",
    "* are made by putting\n",
    "* \\* (asterix) at the start of a line\n",
    "- or maybe \n",
    "- a dash (\\-)\n",
    "- you don't even need to be consistent.\n",
    "\n",
    "\n",
    "1. Numbered lists\n",
    "2. Just by numbering things\n",
    "3. i.e. 1., 2., at the start of a line\n",
    "7. and it doesn't matter\n",
    "4. if your numbers are in the right order\n",
    "\n",
    "(The list above was numbered 1, 2, 3, 7, 4)\n",
    "\n",
    "A nice markdown cheatsheet can be found [here](https://en.support.wordpress.com/markdown-quick-reference/, \"markdown cheatsheet\") \n",
    "\n",
    "You can look at the raw text that made this cell by double-clicking the cell."
   ]
  },
  {
   "cell_type": "markdown",
   "metadata": {},
   "source": [
    "# Plotting and fitting\n",
    "\n",
    "Now we've been introduced to jupyter notebooks, we'll get onto some python. \n",
    "\n",
    "As well as markdown, jupyter notebook cells can also contain code.\n",
    "\n",
    "It's very helpful to split your code up into cells rather than put it all in one big one. This way, if something doesn't work, it's easy(ier) to locate the problem."
   ]
  },
  {
   "cell_type": "markdown",
   "metadata": {},
   "source": [
    "<div class=\"w3-panel w3-leftbar w3-border-green w3-pale-green w3-padding-small\">\n",
    "    <h3 id=\"-Setup%3A-Importing-python-packages%0A\"><i class=\"fa fa-gears\"></i> Setup: Importing python packages\n",
    "</h3>\n",
    "    <p>Python routines exist in packages. The first thing to do is to load the packages you need for your analysis using</p>\n",
    "<div class=\"highlight\"><pre><span></span><span class=\"kn\">import</span> <span class=\"nn\">modulename</span>\n",
    "</pre></div>\n",
    "<p>In the next cell we import the packages needed to plot a graph and fit a line to our data. \n",
    "You'll notice that some packages are loaded slightly differently, e.g.</p>\n",
    "<div class=\"highlight\"><pre><span></span><span class=\"kn\">import</span> <span class=\"nn\">matplotlib.pyplot</span> <span class=\"kn\">as</span> <span class=\"nn\">plt</span>\n",
    "</pre></div>\n",
    "<p>Here we're loading the <code>pyplot</code> sub-package of <code>matplotlib</code>. So we don't need to type <code>matplotlib.pyplot</code> every time we want to use it, we load it as <code>plt</code>.</p>\n",
    "</div>"
   ]
  },
  {
   "cell_type": "code",
   "execution_count": 1,
   "metadata": {},
   "outputs": [],
   "source": [
    "## Some code that imports all the various sub-routines that we will need. Leave alone.\n",
    "\n",
    "import matplotlib.pyplot as plt ### plotting things\n",
    "import numpy as np ## one of python's main maths packages\n",
    "import pandas as pd ## for reading in our data\n",
    "from scipy.optimize import curve_fit ## for fitting a line to our data\n",
    "\n",
    "import matplotlib.ticker as ticker ## this one lets us change some parameters in our plots.\n",
    "### makes our plots show up 'inline'\n",
    "%matplotlib inline \n",
    "## high resolution plots for retina displays\n",
    "\n",
    "%config InlineBackend.figure_format = 'retina' "
   ]
  },
  {
   "cell_type": "markdown",
   "metadata": {},
   "source": [
    "The last two lines of the cell above, starting with `%` are called **magic commands**. You don't need many of them, but the `inline` and `retina` ones are pretty handy. A guide to magic commands can be found [here](https://ipython.readthedocs.io/en/stable/interactive/magics.html, \"magic commands\")"
   ]
  },
  {
   "cell_type": "markdown",
   "metadata": {},
   "source": [
    "# Reading in our data with pandas\n",
    "\n",
    "Unfortunately, this does not mean finding a panda to read our excel files.\n",
    "\n",
    "Pandas is the **Python Data Analysis Library**. It can read pretty much anything you throw at it. If you've been putting your lab data into an excel spreadsheet, pandas can read it in so you can analyse and plot it. You can find out more about what you can do with pandas [here](https://pandas.pydata.org/,\"pandas\")."
   ]
  },
  {
   "cell_type": "markdown",
   "metadata": {},
   "source": [
    "Our first step is to read in our excel spreadsheet to a pandas **dataframe**. Pandas has different functions for different file types. For excel, we need `pd.read_excel`. Our dataframe will be called `data`, but it's best to use a more descriptive name for your variables."
   ]
  },
  {
   "cell_type": "code",
   "execution_count": 2,
   "metadata": {},
   "outputs": [],
   "source": [
    "### read in ALL the excel file and save its data to variable \"data\"\n",
    "\n",
    "data = pd.read_excel('../data/BoltData.xlsx')"
   ]
  },
  {
   "cell_type": "markdown",
   "metadata": {},
   "source": [
    "It's easy to look at what's in our dataframe. Just type the name of it and your dataframe is printed to the screen."
   ]
  },
  {
   "cell_type": "code",
   "execution_count": 3,
   "metadata": {},
   "outputs": [
    {
     "data": {
      "text/html": [
       "<div>\n",
       "<style scoped>\n",
       "    .dataframe tbody tr th:only-of-type {\n",
       "        vertical-align: middle;\n",
       "    }\n",
       "\n",
       "    .dataframe tbody tr th {\n",
       "        vertical-align: top;\n",
       "    }\n",
       "\n",
       "    .dataframe thead th {\n",
       "        text-align: right;\n",
       "    }\n",
       "</style>\n",
       "<table border=\"1\" class=\"dataframe\">\n",
       "  <thead>\n",
       "    <tr style=\"text-align: right;\">\n",
       "      <th></th>\n",
       "      <th>distance/m</th>\n",
       "      <th>Distnace uncertinty / m</th>\n",
       "      <th>time/s</th>\n",
       "      <th>Time measurment uncertinty / s</th>\n",
       "    </tr>\n",
       "  </thead>\n",
       "  <tbody>\n",
       "    <tr>\n",
       "      <th>0</th>\n",
       "      <td>0</td>\n",
       "      <td>0.02</td>\n",
       "      <td>0.000000</td>\n",
       "      <td>1.004810</td>\n",
       "    </tr>\n",
       "    <tr>\n",
       "      <th>1</th>\n",
       "      <td>10</td>\n",
       "      <td>0.02</td>\n",
       "      <td>0.923422</td>\n",
       "      <td>0.637569</td>\n",
       "    </tr>\n",
       "    <tr>\n",
       "      <th>2</th>\n",
       "      <td>20</td>\n",
       "      <td>0.02</td>\n",
       "      <td>2.178145</td>\n",
       "      <td>0.382366</td>\n",
       "    </tr>\n",
       "    <tr>\n",
       "      <th>3</th>\n",
       "      <td>30</td>\n",
       "      <td>0.02</td>\n",
       "      <td>2.461897</td>\n",
       "      <td>0.911785</td>\n",
       "    </tr>\n",
       "    <tr>\n",
       "      <th>4</th>\n",
       "      <td>40</td>\n",
       "      <td>0.02</td>\n",
       "      <td>3.387051</td>\n",
       "      <td>0.198510</td>\n",
       "    </tr>\n",
       "    <tr>\n",
       "      <th>5</th>\n",
       "      <td>50</td>\n",
       "      <td>0.02</td>\n",
       "      <td>5.263879</td>\n",
       "      <td>1.152222</td>\n",
       "    </tr>\n",
       "    <tr>\n",
       "      <th>6</th>\n",
       "      <td>60</td>\n",
       "      <td>0.02</td>\n",
       "      <td>6.042705</td>\n",
       "      <td>0.161827</td>\n",
       "    </tr>\n",
       "    <tr>\n",
       "      <th>7</th>\n",
       "      <td>70</td>\n",
       "      <td>0.02</td>\n",
       "      <td>7.939192</td>\n",
       "      <td>0.732011</td>\n",
       "    </tr>\n",
       "    <tr>\n",
       "      <th>8</th>\n",
       "      <td>80</td>\n",
       "      <td>0.02</td>\n",
       "      <td>8.221779</td>\n",
       "      <td>1.267329</td>\n",
       "    </tr>\n",
       "    <tr>\n",
       "      <th>9</th>\n",
       "      <td>90</td>\n",
       "      <td>0.02</td>\n",
       "      <td>8.578128</td>\n",
       "      <td>0.590908</td>\n",
       "    </tr>\n",
       "    <tr>\n",
       "      <th>10</th>\n",
       "      <td>100</td>\n",
       "      <td>0.02</td>\n",
       "      <td>9.562874</td>\n",
       "      <td>1.022337</td>\n",
       "    </tr>\n",
       "    <tr>\n",
       "      <th>11</th>\n",
       "      <td>NaN</td>\n",
       "      <td>NaN</td>\n",
       "      <td>NaN</td>\n",
       "      <td>NaN</td>\n",
       "    </tr>\n",
       "    <tr>\n",
       "      <th>12</th>\n",
       "      <td>NaN</td>\n",
       "      <td>NaN</td>\n",
       "      <td>NaN</td>\n",
       "      <td>NaN</td>\n",
       "    </tr>\n",
       "    <tr>\n",
       "      <th>13</th>\n",
       "      <td></td>\n",
       "      <td></td>\n",
       "      <td>NaN</td>\n",
       "      <td>NaN</td>\n",
       "    </tr>\n",
       "    <tr>\n",
       "      <th>14</th>\n",
       "      <td>NaN</td>\n",
       "      <td>NaN</td>\n",
       "      <td>NaN</td>\n",
       "      <td>NaN</td>\n",
       "    </tr>\n",
       "    <tr>\n",
       "      <th>15</th>\n",
       "      <td>NaN</td>\n",
       "      <td>NaN</td>\n",
       "      <td>NaN</td>\n",
       "      <td>NaN</td>\n",
       "    </tr>\n",
       "    <tr>\n",
       "      <th>16</th>\n",
       "      <td>NaN</td>\n",
       "      <td>NaN</td>\n",
       "      <td>NaN</td>\n",
       "      <td>NaN</td>\n",
       "    </tr>\n",
       "    <tr>\n",
       "      <th>17</th>\n",
       "      <td>NaN</td>\n",
       "      <td>NaN</td>\n",
       "      <td>NaN</td>\n",
       "      <td>NaN</td>\n",
       "    </tr>\n",
       "    <tr>\n",
       "      <th>18</th>\n",
       "      <td>NaN</td>\n",
       "      <td>NaN</td>\n",
       "      <td>NaN</td>\n",
       "      <td>NaN</td>\n",
       "    </tr>\n",
       "    <tr>\n",
       "      <th>19</th>\n",
       "      <td>NaN</td>\n",
       "      <td>NaN</td>\n",
       "      <td>NaN</td>\n",
       "      <td>NaN</td>\n",
       "    </tr>\n",
       "    <tr>\n",
       "      <th>20</th>\n",
       "      <td>NaN</td>\n",
       "      <td>NaN</td>\n",
       "      <td>NaN</td>\n",
       "      <td>NaN</td>\n",
       "    </tr>\n",
       "    <tr>\n",
       "      <th>21</th>\n",
       "      <td>NaN</td>\n",
       "      <td></td>\n",
       "      <td>NaN</td>\n",
       "      <td>NaN</td>\n",
       "    </tr>\n",
       "  </tbody>\n",
       "</table>\n",
       "</div>"
      ],
      "text/plain": [
       "   distance/m Distnace uncertinty / m    time/s  \\\n",
       "0           0                    0.02  0.000000   \n",
       "1          10                    0.02  0.923422   \n",
       "2          20                    0.02  2.178145   \n",
       "3          30                    0.02  2.461897   \n",
       "4          40                    0.02  3.387051   \n",
       "5          50                    0.02  5.263879   \n",
       "6          60                    0.02  6.042705   \n",
       "7          70                    0.02  7.939192   \n",
       "8          80                    0.02  8.221779   \n",
       "9          90                    0.02  8.578128   \n",
       "10        100                    0.02  9.562874   \n",
       "11        NaN                     NaN       NaN   \n",
       "12        NaN                     NaN       NaN   \n",
       "13                                          NaN   \n",
       "14        NaN                     NaN       NaN   \n",
       "15        NaN                     NaN       NaN   \n",
       "16        NaN                     NaN       NaN   \n",
       "17        NaN                     NaN       NaN   \n",
       "18        NaN                     NaN       NaN   \n",
       "19        NaN                     NaN       NaN   \n",
       "20        NaN                     NaN       NaN   \n",
       "21        NaN                               NaN   \n",
       "\n",
       "    Time measurment uncertinty / s  \n",
       "0                         1.004810  \n",
       "1                         0.637569  \n",
       "2                         0.382366  \n",
       "3                         0.911785  \n",
       "4                         0.198510  \n",
       "5                         1.152222  \n",
       "6                         0.161827  \n",
       "7                         0.732011  \n",
       "8                         1.267329  \n",
       "9                         0.590908  \n",
       "10                        1.022337  \n",
       "11                             NaN  \n",
       "12                             NaN  \n",
       "13                             NaN  \n",
       "14                             NaN  \n",
       "15                             NaN  \n",
       "16                             NaN  \n",
       "17                             NaN  \n",
       "18                             NaN  \n",
       "19                             NaN  \n",
       "20                             NaN  \n",
       "21                             NaN  "
      ]
     },
     "execution_count": 3,
     "metadata": {},
     "output_type": "execute_result"
    }
   ],
   "source": [
    "## have a look at the data and print it to the screen.\n",
    "data"
   ]
  },
  {
   "cell_type": "markdown",
   "metadata": {},
   "source": [
    "## Tidying up our data\n",
    "\n",
    "Right now our `data` dataframe looks a bit of a mess. There's loads of missing or `NaN` (not a number) values, and our columns don't have very sensible names. We can re-read the data, specifying what we want to keep and give better names for our columns."
   ]
  },
  {
   "cell_type": "code",
   "execution_count": 4,
   "metadata": {},
   "outputs": [],
   "source": [
    "## Now we can read in only what items we want and give each column a better name.\n",
    "data = pd.read_excel('../data/BoltData.xlsx', \n",
    "                        names=('distance', 'err_distance', 'time', 'err_time'), \n",
    "                        usecols=(0,1,2,3), \n",
    "                        skipfooter=12)"
   ]
  },
  {
   "cell_type": "code",
   "execution_count": 5,
   "metadata": {},
   "outputs": [
    {
     "data": {
      "text/html": [
       "<div>\n",
       "<style scoped>\n",
       "    .dataframe tbody tr th:only-of-type {\n",
       "        vertical-align: middle;\n",
       "    }\n",
       "\n",
       "    .dataframe tbody tr th {\n",
       "        vertical-align: top;\n",
       "    }\n",
       "\n",
       "    .dataframe thead th {\n",
       "        text-align: right;\n",
       "    }\n",
       "</style>\n",
       "<table border=\"1\" class=\"dataframe\">\n",
       "  <thead>\n",
       "    <tr style=\"text-align: right;\">\n",
       "      <th></th>\n",
       "      <th>distance</th>\n",
       "      <th>err_distance</th>\n",
       "      <th>time</th>\n",
       "      <th>err_time</th>\n",
       "    </tr>\n",
       "  </thead>\n",
       "  <tbody>\n",
       "    <tr>\n",
       "      <th>0</th>\n",
       "      <td>0</td>\n",
       "      <td>0.02</td>\n",
       "      <td>0.000000</td>\n",
       "      <td>1.004810</td>\n",
       "    </tr>\n",
       "    <tr>\n",
       "      <th>1</th>\n",
       "      <td>10</td>\n",
       "      <td>0.02</td>\n",
       "      <td>0.923422</td>\n",
       "      <td>0.637569</td>\n",
       "    </tr>\n",
       "    <tr>\n",
       "      <th>2</th>\n",
       "      <td>20</td>\n",
       "      <td>0.02</td>\n",
       "      <td>2.178145</td>\n",
       "      <td>0.382366</td>\n",
       "    </tr>\n",
       "    <tr>\n",
       "      <th>3</th>\n",
       "      <td>30</td>\n",
       "      <td>0.02</td>\n",
       "      <td>2.461897</td>\n",
       "      <td>0.911785</td>\n",
       "    </tr>\n",
       "    <tr>\n",
       "      <th>4</th>\n",
       "      <td>40</td>\n",
       "      <td>0.02</td>\n",
       "      <td>3.387051</td>\n",
       "      <td>0.198510</td>\n",
       "    </tr>\n",
       "    <tr>\n",
       "      <th>5</th>\n",
       "      <td>50</td>\n",
       "      <td>0.02</td>\n",
       "      <td>5.263879</td>\n",
       "      <td>1.152222</td>\n",
       "    </tr>\n",
       "    <tr>\n",
       "      <th>6</th>\n",
       "      <td>60</td>\n",
       "      <td>0.02</td>\n",
       "      <td>6.042705</td>\n",
       "      <td>0.161827</td>\n",
       "    </tr>\n",
       "    <tr>\n",
       "      <th>7</th>\n",
       "      <td>70</td>\n",
       "      <td>0.02</td>\n",
       "      <td>7.939192</td>\n",
       "      <td>0.732011</td>\n",
       "    </tr>\n",
       "    <tr>\n",
       "      <th>8</th>\n",
       "      <td>80</td>\n",
       "      <td>0.02</td>\n",
       "      <td>8.221779</td>\n",
       "      <td>1.267329</td>\n",
       "    </tr>\n",
       "    <tr>\n",
       "      <th>9</th>\n",
       "      <td>90</td>\n",
       "      <td>0.02</td>\n",
       "      <td>8.578128</td>\n",
       "      <td>0.590908</td>\n",
       "    </tr>\n",
       "  </tbody>\n",
       "</table>\n",
       "</div>"
      ],
      "text/plain": [
       "   distance  err_distance      time  err_time\n",
       "0         0          0.02  0.000000  1.004810\n",
       "1        10          0.02  0.923422  0.637569\n",
       "2        20          0.02  2.178145  0.382366\n",
       "3        30          0.02  2.461897  0.911785\n",
       "4        40          0.02  3.387051  0.198510\n",
       "5        50          0.02  5.263879  1.152222\n",
       "6        60          0.02  6.042705  0.161827\n",
       "7        70          0.02  7.939192  0.732011\n",
       "8        80          0.02  8.221779  1.267329\n",
       "9        90          0.02  8.578128  0.590908"
      ]
     },
     "execution_count": 5,
     "metadata": {},
     "output_type": "execute_result"
    }
   ],
   "source": [
    "## have a look at the dataframe just to make sure we have what we wanted.\n",
    "data"
   ]
  },
  {
   "cell_type": "markdown",
   "metadata": {},
   "source": [
    "<div class=\"w3-panel w3-leftbar w3-border-blue w3-pale-blue w3-padding-small\">\n",
    "    <h3 id=\"--nrows-vs-skipfooter%0A\"><i class=\"fa fa-info-circle\"></i> nrows vs skipfooter\n",
    "</h3>\n",
    "    <p>In the <code>pd.read_excel</code> command above, I've used the argument <code>nrows=11</code>. This reads the 10 rows of data and the header row. If you're using a version of <code>pandas</code> older than 0.23.0 you can't use the <code>nrows</code> parameter, and should use <code>skipfooter</code> insted:</p>\n",
    "<div class=\"highlight\"><pre><span></span><span class=\"n\">data</span> <span class=\"o\">=</span> <span class=\"n\">pd</span><span class=\"o\">.</span><span class=\"n\">read_excel</span><span class=\"p\">(</span><span class=\"s1\">&#39;BoltData.xlsx&#39;</span><span class=\"p\">,</span> \n",
    "                        <span class=\"n\">names</span><span class=\"o\">=</span><span class=\"p\">(</span><span class=\"s1\">&#39;distance&#39;</span><span class=\"p\">,</span> <span class=\"s1\">&#39;err_distance&#39;</span><span class=\"p\">,</span> <span class=\"s1\">&#39;time&#39;</span><span class=\"p\">,</span> <span class=\"s1\">&#39;err_time&#39;</span><span class=\"p\">),</span> \n",
    "                        <span class=\"n\">usecols</span><span class=\"o\">=</span><span class=\"p\">(</span><span class=\"mi\">0</span><span class=\"p\">,</span><span class=\"mi\">1</span><span class=\"p\">,</span><span class=\"mi\">2</span><span class=\"p\">,</span><span class=\"mi\">3</span><span class=\"p\">),</span> \n",
    "                        <span class=\"n\">skipfooter</span><span class=\"o\">=</span><span class=\"mi\">12</span><span class=\"p\">)</span>\n",
    "</pre></div>\n",
    "<p>This ignores the last 12 rows of the file. \n",
    "You can find out which version of <code>pandas</code> (or any package) you have by running</p>\n",
    "<div class=\"highlight\"><pre><span></span><span class=\"n\">pd</span><span class=\"o\">.</span><span class=\"n\">__version__</span>\n",
    "</pre></div>\n",
    "<p>where <code>version</code> has 2 underscores on either side.</p>\n",
    "</div>"
   ]
  },
  {
   "cell_type": "markdown",
   "metadata": {},
   "source": [
    "# Plotting, plotting, plotting....\n",
    "\n",
    "Now we have our data in a useful format we can start to look at it. \n",
    "\n",
    "To make a quick plot we use the `matplotlib.pyplot` package, that we loaded as `plt`.\n",
    "\n",
    "First make a plot with all the default settings to take a quick look at our data. You should always take a quick look at your data to make sure there aren't any suprises like weird points or typos.\n",
    "\n",
    "To plot the data from our dataframe, we call the columns we want to plot using \n",
    "```python\n",
    "plt.plot(dataframe.xcolumn, dataframe.ycolumn)\n",
    "```\n",
    "where `xcolumn` and `ycolumn` are the names of the columns we want to see."
   ]
  },
  {
   "cell_type": "code",
   "execution_count": 6,
   "metadata": {},
   "outputs": [
    {
     "data": {
      "text/plain": [
       "[<matplotlib.lines.Line2D at 0x7fbdb17f2b00>]"
      ]
     },
     "execution_count": 6,
     "metadata": {},
     "output_type": "execute_result"
    },
    {
     "data": {
      "image/png": "[encoded data removed]",
      "text/plain": [
       "<Figure size 432x288 with 1 Axes>"
      ]
     },
     "metadata": {
      "image/png": {
       "height": 248,
       "width": 362
      },
      "needs_background": "light"
     },
     "output_type": "display_data"
    }
   ],
   "source": [
    "# our first plot quick and easy just to see what the data looks like. plot(xcolumn, and ycolumn).\n",
    "plt.plot( data.distance , data.time )"
   ]
  },
  {
   "cell_type": "markdown",
   "metadata": {},
   "source": [
    "We can see from this quick plot that our data looks fine, but it's not particularly informative right now. We don't have axis labels, or errorbars, for example. We can now play around with different things in `plt` to add what we want to our plot."
   ]
  },
  {
   "cell_type": "markdown",
   "metadata": {},
   "source": [
    "## Making a pretty plot\n",
    "\n",
    "There are lots of parameters you can play around with in `plt`. We won't look at them all here, but will make a nice looking, informative plot that you can use as a template for your lab experiments."
   ]
  },
  {
   "cell_type": "markdown",
   "metadata": {},
   "source": [
    "### Changing the size\n",
    "\n",
    "It's handy to set up a `figure` object when you're making nice plots (as opposed to the quick-look one we made before). This will let you include subfigures, and change parameters that affect the whole figure. We can also set up the size and the aspect ratio here:\n",
    "```python\n",
    "fig = plt.figure(figsize=(10,6))\n",
    "```\n",
    "where the values passed to `figsize` are the width and height in inches. You don't need to worry too much about the absolute values, but you should make it big enough that it's easy to read and the aspect ratio makes sense."
   ]
  },
  {
   "cell_type": "markdown",
   "metadata": {},
   "source": [
    "### subplot\n",
    "\n",
    "Even if you only have one figure, you can use the `subplot` command. This lets you set the parameters in your plot (rather than the whole figure) by referring to the name of the subplot:\n",
    "```python\n",
    "ax = fig.add_subplot(nrows,ncols,index)\n",
    "```\n",
    "Here `nrows` is the number of rows of plots you want, ncols is the number of columns, and index tells it where to put the subplot, starting at 1 in the upper left corner and increasing to the right.\n",
    "So\n",
    "```python\n",
    "ax = fig.add_subplot(1,1,1)\n",
    "```\n",
    "will split your figure into 1 row, 1 column, and make the plot in the 1st position.\n",
    "```python\n",
    "ax = fig.add_subplot(2,3,4)\n",
    "```\n",
    "would split the figure into 2 rows and 3 columns, and make your plot in the lower left plot."
   ]
  },
  {
   "cell_type": "code",
   "execution_count": 7,
   "metadata": {},
   "outputs": [
    {
     "data": {
      "image/png": "[encoded data removed]",
      "text/plain": [
       "<Figure size 720x432 with 1 Axes>"
      ]
     },
     "metadata": {
      "image/png": {
       "height": 360,
       "width": 603
      },
      "needs_background": "light"
     },
     "output_type": "display_data"
    }
   ],
   "source": [
    "# Create a \"figure\" and set its aspect ratio. Play with the numbers to make it square, or long or short. \n",
    "fig = plt.figure(figsize=(10,6))\n",
    "\n",
    "# Here we only want one plot in the figure to a 1 by 1 set of plots and this is number 1. Leave alone for now. \n",
    "ax = fig.add_subplot(1,1,1)"
   ]
  },
  {
   "cell_type": "markdown",
   "metadata": {},
   "source": [
    "We now have an empty plot ready for data!"
   ]
  },
  {
   "cell_type": "markdown",
   "metadata": {},
   "source": [
    "## Plotting the data\n",
    "\n",
    "Any plot you make should be clear and informative. There are several things that you **always** need on a plot of your results:\n",
    "* Error bars\n",
    "* Axis labels\n",
    "* Units\n",
    "\n",
    "We can do this pretty easily with `plt`. First we call `errorbar` to plot our points and errorbars.\n",
    "\n",
    "This time, instead of calling `plt.errorbar`, we use `ax.errorbar`. This tells `plt` to add the points to the plot we already set up. \n",
    "```python\n",
    "ax.errorbar(data.distance,           \n",
    "             data.time,              \n",
    "             xerr=data.err_distance, \n",
    "             yerr=data.err_time,     \n",
    "             marker='o',             \n",
    "             markersize = 7,        \n",
    "             color='black',          \n",
    "             ecolor='black',         \n",
    "             markerfacecolor='black',\n",
    "             linestyle='none',       \n",
    "             capsize=6,              \n",
    "             )\n",
    "```\n",
    "Here were're calling `errorbar`, telling it which columns correspond to the `x` and `y` uncertainties and the size and shape, and colour of our points. `linestyle='none'` is telling it **not** to draw a line joining up all our points. `capsize` sets the size the end bars on the errorbars.\n",
    "This command looks pretty long, but we'll look later at how to set some parameters as defaults.\n",
    "\n",
    "\n",
    "Finally, we add the axis labels **including the units** using `ax.set_xlabel` and `ax.set_ylabel` so our plot actually means something. "
   ]
  },
  {
   "cell_type": "markdown",
   "metadata": {},
   "source": [
    "<div class=\"w3-panel w3-leftbar w3-border-blue w3-pale-blue w3-padding-small\">\n",
    "    <h3 id=\"-A-word-of-warning-about-axis-labels%0A\"><i class=\"fa fa-info-circle\"></i> A word of warning about axis labels\n",
    "</h3>\n",
    "    <p>If you're setting the axis labels for a <code>subplot</code> like we are here you should use <code>ax.set_xlabel</code>. If you haven't set up subplots (for example, if you're just making a quick-look figure, you should use <code>plt.xlabel</code> instead. You'll know if you've used the wrong command if you get an error that looks like</p>\n",
    "<div class=\"highlight\"><pre><span></span><span class=\"ne\">AttributeError</span><span class=\"p\">:</span> <span class=\"s1\">&#39;AxesSubplot&#39;</span> <span class=\"nb\">object</span> <span class=\"n\">has</span> <span class=\"n\">no</span> <span class=\"n\">attribute</span> <span class=\"s1\">&#39;xlabel&#39;</span>\n",
    "</pre></div>\n",
    "</div>"
   ]
  },
  {
   "cell_type": "code",
   "execution_count": 8,
   "metadata": {},
   "outputs": [
    {
     "data": {
      "image/png": "[encoded data removed]",
      "text/plain": [
       "<Figure size 720x432 with 1 Axes>"
      ]
     },
     "metadata": {
      "image/png": {
       "height": 373,
       "width": 605
      },
      "needs_background": "light"
     },
     "output_type": "display_data"
    }
   ],
   "source": [
    "fig = plt.figure(figsize=(10,6))\n",
    "ax = fig.add_subplot(1,1,1)\n",
    "ax.errorbar(data.distance,           # x coordinates\n",
    "             data.time,              # y coordinates\n",
    "             xerr=data.err_distance, # x errors\n",
    "             yerr=data.err_time,     # y errors\n",
    "             marker='o',             # marker used is a cicle 'o'. Could be crosses 'x', or squares 's', or 'none'\n",
    "             markersize = 7,        # marker size\n",
    "             color='black',          # overall colour I think\n",
    "             ecolor='black',         # edge colour for you marker\n",
    "             markerfacecolor='black',\n",
    "             linestyle='none',       # no line joining markers, could be a line '-', or a dashed line '--'\n",
    "             capsize=6,              # width of the end bit of the error bars, not too small nor too big please.\n",
    "             )\n",
    "#ax.set_xlabel('Distance run / m')  \n",
    "ax.set_xlabel('Distance run / m')# You can use Latex here is you wish, e.g., 'Distance run / 10$^{-3}$ km'\n",
    "ax.set_ylabel('Time / s')\n",
    "\n",
    "plt.show()"
   ]
  },
  {
   "cell_type": "markdown",
   "metadata": {},
   "source": [
    "## Making it fancy\n",
    "\n",
    "Now our plot is starting to look good! We can now add in some finishing touches\n",
    "\n",
    "### tick marks\n",
    "\n",
    "We can change the tick marks on the axes to go into the graph rather than out towards the numbers. This makes the plot easier to read. \n",
    "\n",
    "### font size\n",
    "\n",
    "The font size should be big enough that it's easy to read when it's printed or included in your lab report.\n",
    "\n",
    "To change the font size we use `plt.rcParams.update`. This changes the settings for all the text."
   ]
  },
  {
   "cell_type": "code",
   "execution_count": 9,
   "metadata": {},
   "outputs": [],
   "source": [
    "ax.tick_params(direction='in',      # I like 'in', could be 'out' or both 'inout'\n",
    "                length=7,            # A reasonable length\n",
    "                bottom='on',         # I want ticks on the bottom axes\n",
    "                left='on',\n",
    "                top='on',\n",
    "                right='on',\n",
    "                \n",
    "               )\n",
    "plt.rcParams.update({'font.size':15})   # A decent font size so the text is readible. \n",
    "                                        # You may have to play with the aspect ration aobe and this to get a nice \n",
    "                                        # looking figure in your report.\n"
   ]
  },
  {
   "cell_type": "markdown",
   "metadata": {},
   "source": [
    "# Fitting a line\n",
    "\n",
    "The last thing to do is to add a line of best fit to our plot. We can get a least-squares fit to our data using `curve_fit`.\n",
    "\n",
    "First we set up the function that we want to fit to our data:\n",
    "```python \n",
    "def line(x, slope, intercept):          \n",
    "    return slope*x + intercept\n",
    "```\n",
    "Here we've defined our `line` function to fit an equation of the form\n",
    "$$ y = m x + c $$\n",
    "to the data, where $m$ is the slope and $c$ is the intercept.\n",
    "Next we pass this function and the x and y data to `curve_fit`:\n",
    "```python\n",
    "popt, pcov = curve_fit(line,data.distance,data.time)\n",
    "```\n",
    "This will find the best fit line to our `distance` and `time` data and send the parameters to the `popt` and `pcov` variables."
   ]
  },
  {
   "cell_type": "markdown",
   "metadata": {},
   "source": [
    "<div class=\"w3-panel w3-leftbar w3-border-blue w3-pale-blue w3-padding-small\">\n",
    "    <h3 id=\"-popt%2C-pcov%0A\"><i class=\"fa fa-info-circle\"></i> popt, pcov\n",
    "</h3>\n",
    "    <p><code>popt</code> and <code>pcov</code> are arrays that contain information about the best-fit line. <code>popt</code> contains the values of the slope and intercept.</p>\n",
    "<div class=\"highlight\"><pre><span></span><span class=\"n\">slope</span> <span class=\"o\">=</span> <span class=\"n\">popt</span><span class=\"p\">[</span><span class=\"mi\">0</span><span class=\"p\">]</span>\n",
    "<span class=\"n\">intercept</span> <span class=\"o\">=</span> <span class=\"n\">popt</span><span class=\"p\">[</span><span class=\"mi\">1</span><span class=\"p\">]</span>\n",
    "</pre></div>\n",
    "<p>and <code>pcov</code> contains the variances</p>\n",
    "<div class=\"highlight\"><pre><span></span><span class=\"n\">err_slope</span> <span class=\"o\">=</span> <span class=\"n\">np</span><span class=\"o\">.</span><span class=\"n\">sqrt</span><span class=\"p\">(</span><span class=\"nb\">float</span><span class=\"p\">(</span><span class=\"n\">pcov</span><span class=\"p\">[</span><span class=\"mi\">0</span><span class=\"p\">][</span><span class=\"mi\">0</span><span class=\"p\">]))</span>\n",
    "<span class=\"n\">err_intercept</span> <span class=\"o\">=</span> <span class=\"n\">np</span><span class=\"o\">.</span><span class=\"n\">sqrt</span><span class=\"p\">(</span><span class=\"nb\">float</span><span class=\"p\">(</span><span class=\"n\">pcov</span><span class=\"p\">[</span><span class=\"mi\">1</span><span class=\"p\">][</span><span class=\"mi\">1</span><span class=\"p\">]))</span>\n",
    "</pre></div>\n",
    "</div>"
   ]
  },
  {
   "cell_type": "code",
   "execution_count": 10,
   "metadata": {},
   "outputs": [],
   "source": [
    "def line(x, slope, intercept):          # Set up the linear fitting - don't ammend\n",
    "    return slope*x + intercept          # More set up, leave alone.\n",
    "\n",
    "# Next few line, fits a line to the (x data, and y data) no need to change things.\n",
    "popt, pcov = curve_fit(line,data.distance,data.time)\n",
    "slope = popt[0]\n",
    "intercept = popt[1]\n",
    "err_slope = np.sqrt(float(pcov[0][0]))\n",
    "err_intercept = np.sqrt(float(pcov[1][1]))"
   ]
  },
  {
   "cell_type": "code",
   "execution_count": 11,
   "metadata": {},
   "outputs": [
    {
     "name": "stdout",
     "output_type": "stream",
     "text": [
      "Slope: 0.103 +- 0.005\n",
      "Intercept: -0.129 +- 0.280\n"
     ]
    }
   ],
   "source": [
    "# Print to the screen the value of the slope and the error and then the intercept and the error.\n",
    "print('Slope: {0:.3f} +- {1:.3f}'.format(slope, err_slope))\n",
    "print('Intercept: {0:.3f} +- {1:.3f}'.format(intercept, err_intercept))"
   ]
  },
  {
   "cell_type": "markdown",
   "metadata": {},
   "source": [
    "# final plot\n",
    "\n",
    "Now we add everything together to get our nice final plot."
   ]
  },
  {
   "cell_type": "markdown",
   "metadata": {},
   "source": [
    "<div class=\"w3-panel w3-leftbar w3-border-blue w3-pale-blue w3-padding-small\">\n",
    "    <h3 id=\"--Note%0A\"><i class=\"fa fa-info-circle\"></i> Note\n",
    "</h3>\n",
    "    <p>All your <code>matplotlib</code> commands for a given plot should be in the same cell or you won't get anything out when you run <code>plt.show()</code>.</p>\n",
    "</div>"
   ]
  },
  {
   "cell_type": "code",
   "execution_count": 12,
   "metadata": {},
   "outputs": [
    {
     "data": {
      "image/png": "[encoded data removed]",
      "text/plain": [
       "<Figure size 720x432 with 1 Axes>"
      ]
     },
     "metadata": {
      "image/png": {
       "height": 382,
       "width": 613
      },
      "needs_background": "light"
     },
     "output_type": "display_data"
    }
   ],
   "source": [
    "fig = plt.figure(figsize=(10,6))\n",
    "ax = fig.add_subplot(1,1,1)\n",
    "ax.errorbar(data.distance,           # x coordinates\n",
    "             data.time,              # y coordinates\n",
    "             xerr=data.err_distance, # x errors\n",
    "             yerr=data.err_time,     # y errors\n",
    "             marker='o',             # marker used is a cicle 'o'. Could be crosses 'x', or squares 's', or 'none'\n",
    "             markersize = 7,        # marker size\n",
    "             color='black',          # overall colour I think\n",
    "             ecolor='black',         # edge colour for you marker\n",
    "             markerfacecolor='black',\n",
    "             linestyle='none',       # no line joining markers, could be a line '-', or a dashed line '--'\n",
    "             capsize=6,  \n",
    "             label = \"Bolt data\"# width of the end bit of the error bars, not too small nor too big please.\n",
    "             )\n",
    "#ax.set_xlabel('Distance run / m')  \n",
    "ax.set_xlabel('Distance run / m')# You can use Latex here is you wish, e.g., 'Distance run / 10$^{-3}$ km'\n",
    "ax.set_ylabel('Time / s')\n",
    "\n",
    "ax.tick_params(direction='in',      # I like 'in', could be 'out' or both 'inout'\n",
    "                length=7,            # A reasonable length\n",
    "                bottom='on',         # I want ticks on the bottom axes\n",
    "                left='on',\n",
    "                top='on',\n",
    "                right='on',  \n",
    "               )\n",
    "ax.plot(data.distance, data.distance*slope+intercept, \n",
    "         linestyle='--',\n",
    "         color='black',\n",
    "         label='Best fit')\n",
    "handles, labels = ax.get_legend_handles_labels()\n",
    "ax.legend(handles[::-1],labels[::-1],loc=0, numpoints=1)\n",
    "annotation ='$t = {0:.3f} ( \\pm {1:.3f})d {2:+.3f} (\\pm {3:.3f})$'.format(slope, err_slope, intercept, err_intercept)\n",
    "ax.annotate(annotation, xy=(70, 1), xycoords='data', ha='center', bbox=dict(boxstyle=\"round\", fc=\"w\"))\n",
    "plt.show()"
   ]
  },
  {
   "cell_type": "code",
   "execution_count": 13,
   "metadata": {},
   "outputs": [],
   "source": [
    "fig.savefig('Basic.png', dpi=300) # save the graph to a file."
   ]
  },
  {
   "cell_type": "markdown",
   "metadata": {},
   "source": [
    "Now we have the data in the computer we can produce a nice graph of it. The code below has various comments to guide as to what's what. You can play with all the various settings to change the graph. Just keeping clicking the \"run\" button to see what your new version looks like. It you want more advanced stuff then you'll need to do more reading. See the help for matplotlib and have a look at the tutorials: http://blogs.bath.ac.uk/python/data-analysis-with-jupyter-notebooks/"
   ]
  },
  {
   "cell_type": "markdown",
   "metadata": {},
   "source": [
    "<div class=\"w3-panel w3-leftbar w3-border-green w3-pale-green w3-padding-small\">\n",
    "    <h3 id=\"-Key-points%3A%0A\"><i class=\"fa fa-key\"></i> Key points:\n",
    "</h3>\n",
    "    <ul>\n",
    "<li>You can use Jupyter notebooks just like you would use a lab book</li>\n",
    "<li>Read in data with <code>pandas</code></li>\n",
    "<li>Make your plots with <code>matplotlib</code></li>\n",
    "<li>Errorbars!</li>\n",
    "</ul>\n",
    "</div>"
   ]
  },
  {
   "cell_type": "code",
   "execution_count": null,
   "metadata": {},
   "outputs": [],
   "source": []
  },
  {
   "cell_type": "markdown",
   "metadata": {},
   "source": [
    "<div class=\"w3-bar w3-blue-grey\">\n",
    "<a href=\"./99_episode_template.ipynb\" class=\"w3-bar-item w3-button\"><h2><i class=\"fa fa-angle-double-left\"></i> Previous</h2></a>\n",
    "<a href=\"./00_schedule.ipynb\" class=\"w3-bar-item w3-button w3-center\" style=\"width:60%\"><h2>Schedule</h2></a>\n",
    "<a href=\"./00_schedule.ipynb\" class=\"w3-bar-item w3-button w3-right\"><h2>Next <i class=\"fa fa-angle-double-right\"></i></h2></a>\n",
    "</div>"
   ]
  }
 ],
 "metadata": {
  "celltoolbar": "None",
  "kernelspec": {
   "display_name": "Python 3",
   "language": "python",
   "name": "python3"
  },
  "language_info": {
   "codemirror_mode": {
    "name": "ipython",
    "version": 3
   },
   "file_extension": ".py",
   "mimetype": "text/x-python",
   "name": "python",
   "nbconvert_exporter": "python",
   "pygments_lexer": "ipython3",
   "version": "3.7.3"
  },
  "livereveal": {
   "scroll": true
  }
 },
 "nbformat": 4,
 "nbformat_minor": 2
}
