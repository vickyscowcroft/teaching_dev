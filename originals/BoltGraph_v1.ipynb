{
 "cells": [
  {
   "cell_type": "markdown",
   "metadata": {},
   "source": [
    "Welcome to Sloan's python stuff to produce a reasonably nice graph for the [WL] labs. We will read in data, plot it, fit a linear function and then output the graph as a graphics file, here a png file."
   ]
  },
  {
   "cell_type": "code",
   "execution_count": 1,
   "metadata": {
    "collapsed": true
   },
   "outputs": [],
   "source": [
    "## Some code that imports all the various sub-routines that we will need. Leave alone.\n",
    "\n",
    "import matplotlib.pyplot as plt\n",
    "%matplotlib inline\n",
    "import numpy as np\n",
    "import matplotlib.ticker as ticker\n",
    "from scipy.optimize import curve_fit\n",
    "%config InlineBackend.figure_format = 'retina'\n",
    "import pandas as pd"
   ]
  },
  {
   "cell_type": "code",
   "execution_count": 2,
   "metadata": {
    "collapsed": true
   },
   "outputs": [],
   "source": [
    "### read in ALL the excel file and save its data to variable \"data\"\n",
    "\n",
    "data = pd.read_excel('BoltData.xlsx')"
   ]
  },
  {
   "cell_type": "code",
   "execution_count": 3,
   "metadata": {},
   "outputs": [
    {
     "data": {
      "text/html": [
       "<div>\n",
       "<style>\n",
       "    .dataframe thead tr:only-child th {\n",
       "        text-align: right;\n",
       "    }\n",
       "\n",
       "    .dataframe thead th {\n",
       "        text-align: left;\n",
       "    }\n",
       "\n",
       "    .dataframe tbody tr th {\n",
       "        vertical-align: top;\n",
       "    }\n",
       "</style>\n",
       "<table border=\"1\" class=\"dataframe\">\n",
       "  <thead>\n",
       "    <tr style=\"text-align: right;\">\n",
       "      <th></th>\n",
       "      <th>distance/m</th>\n",
       "      <th>Distnace uncertinty / m</th>\n",
       "      <th>time/s</th>\n",
       "      <th>Time measurment uncertinty / s</th>\n",
       "    </tr>\n",
       "  </thead>\n",
       "  <tbody>\n",
       "    <tr>\n",
       "      <th>0</th>\n",
       "      <td>0</td>\n",
       "      <td>0.02</td>\n",
       "      <td>0.000000</td>\n",
       "      <td>1.004810</td>\n",
       "    </tr>\n",
       "    <tr>\n",
       "      <th>1</th>\n",
       "      <td>10</td>\n",
       "      <td>0.02</td>\n",
       "      <td>0.923422</td>\n",
       "      <td>0.637569</td>\n",
       "    </tr>\n",
       "    <tr>\n",
       "      <th>2</th>\n",
       "      <td>20</td>\n",
       "      <td>0.02</td>\n",
       "      <td>2.178145</td>\n",
       "      <td>0.382366</td>\n",
       "    </tr>\n",
       "    <tr>\n",
       "      <th>3</th>\n",
       "      <td>30</td>\n",
       "      <td>0.02</td>\n",
       "      <td>2.461897</td>\n",
       "      <td>0.911785</td>\n",
       "    </tr>\n",
       "    <tr>\n",
       "      <th>4</th>\n",
       "      <td>40</td>\n",
       "      <td>0.02</td>\n",
       "      <td>3.387051</td>\n",
       "      <td>0.198510</td>\n",
       "    </tr>\n",
       "    <tr>\n",
       "      <th>5</th>\n",
       "      <td>50</td>\n",
       "      <td>0.02</td>\n",
       "      <td>5.263879</td>\n",
       "      <td>1.152222</td>\n",
       "    </tr>\n",
       "    <tr>\n",
       "      <th>6</th>\n",
       "      <td>60</td>\n",
       "      <td>0.02</td>\n",
       "      <td>6.042705</td>\n",
       "      <td>0.161827</td>\n",
       "    </tr>\n",
       "    <tr>\n",
       "      <th>7</th>\n",
       "      <td>70</td>\n",
       "      <td>0.02</td>\n",
       "      <td>7.939192</td>\n",
       "      <td>0.732011</td>\n",
       "    </tr>\n",
       "    <tr>\n",
       "      <th>8</th>\n",
       "      <td>80</td>\n",
       "      <td>0.02</td>\n",
       "      <td>8.221779</td>\n",
       "      <td>1.267329</td>\n",
       "    </tr>\n",
       "    <tr>\n",
       "      <th>9</th>\n",
       "      <td>90</td>\n",
       "      <td>0.02</td>\n",
       "      <td>8.578128</td>\n",
       "      <td>0.590908</td>\n",
       "    </tr>\n",
       "    <tr>\n",
       "      <th>10</th>\n",
       "      <td>100</td>\n",
       "      <td>0.02</td>\n",
       "      <td>9.562874</td>\n",
       "      <td>1.022337</td>\n",
       "    </tr>\n",
       "    <tr>\n",
       "      <th>11</th>\n",
       "      <td>NaN</td>\n",
       "      <td>NaN</td>\n",
       "      <td>NaN</td>\n",
       "      <td>NaN</td>\n",
       "    </tr>\n",
       "    <tr>\n",
       "      <th>12</th>\n",
       "      <td>NaN</td>\n",
       "      <td>NaN</td>\n",
       "      <td>NaN</td>\n",
       "      <td>NaN</td>\n",
       "    </tr>\n",
       "    <tr>\n",
       "      <th>13</th>\n",
       "      <td></td>\n",
       "      <td></td>\n",
       "      <td>NaN</td>\n",
       "      <td>NaN</td>\n",
       "    </tr>\n",
       "    <tr>\n",
       "      <th>14</th>\n",
       "      <td>NaN</td>\n",
       "      <td>NaN</td>\n",
       "      <td>NaN</td>\n",
       "      <td>NaN</td>\n",
       "    </tr>\n",
       "    <tr>\n",
       "      <th>15</th>\n",
       "      <td>NaN</td>\n",
       "      <td>NaN</td>\n",
       "      <td>NaN</td>\n",
       "      <td>NaN</td>\n",
       "    </tr>\n",
       "    <tr>\n",
       "      <th>16</th>\n",
       "      <td>NaN</td>\n",
       "      <td>NaN</td>\n",
       "      <td>NaN</td>\n",
       "      <td>NaN</td>\n",
       "    </tr>\n",
       "    <tr>\n",
       "      <th>17</th>\n",
       "      <td>NaN</td>\n",
       "      <td>NaN</td>\n",
       "      <td>NaN</td>\n",
       "      <td>NaN</td>\n",
       "    </tr>\n",
       "    <tr>\n",
       "      <th>18</th>\n",
       "      <td>NaN</td>\n",
       "      <td>NaN</td>\n",
       "      <td>NaN</td>\n",
       "      <td>NaN</td>\n",
       "    </tr>\n",
       "    <tr>\n",
       "      <th>19</th>\n",
       "      <td>NaN</td>\n",
       "      <td>NaN</td>\n",
       "      <td>NaN</td>\n",
       "      <td>NaN</td>\n",
       "    </tr>\n",
       "    <tr>\n",
       "      <th>20</th>\n",
       "      <td>NaN</td>\n",
       "      <td>NaN</td>\n",
       "      <td>NaN</td>\n",
       "      <td>NaN</td>\n",
       "    </tr>\n",
       "    <tr>\n",
       "      <th>21</th>\n",
       "      <td>NaN</td>\n",
       "      <td></td>\n",
       "      <td>NaN</td>\n",
       "      <td>NaN</td>\n",
       "    </tr>\n",
       "  </tbody>\n",
       "</table>\n",
       "</div>"
      ],
      "text/plain": [
       "   distance/m Distnace uncertinty / m    time/s  \\\n",
       "0           0                    0.02  0.000000   \n",
       "1          10                    0.02  0.923422   \n",
       "2          20                    0.02  2.178145   \n",
       "3          30                    0.02  2.461897   \n",
       "4          40                    0.02  3.387051   \n",
       "5          50                    0.02  5.263879   \n",
       "6          60                    0.02  6.042705   \n",
       "7          70                    0.02  7.939192   \n",
       "8          80                    0.02  8.221779   \n",
       "9          90                    0.02  8.578128   \n",
       "10        100                    0.02  9.562874   \n",
       "11        NaN                     NaN       NaN   \n",
       "12        NaN                     NaN       NaN   \n",
       "13                                          NaN   \n",
       "14        NaN                     NaN       NaN   \n",
       "15        NaN                     NaN       NaN   \n",
       "16        NaN                     NaN       NaN   \n",
       "17        NaN                     NaN       NaN   \n",
       "18        NaN                     NaN       NaN   \n",
       "19        NaN                     NaN       NaN   \n",
       "20        NaN                     NaN       NaN   \n",
       "21        NaN                               NaN   \n",
       "\n",
       "    Time measurment uncertinty / s  \n",
       "0                         1.004810  \n",
       "1                         0.637569  \n",
       "2                         0.382366  \n",
       "3                         0.911785  \n",
       "4                         0.198510  \n",
       "5                         1.152222  \n",
       "6                         0.161827  \n",
       "7                         0.732011  \n",
       "8                         1.267329  \n",
       "9                         0.590908  \n",
       "10                        1.022337  \n",
       "11                             NaN  \n",
       "12                             NaN  \n",
       "13                             NaN  \n",
       "14                             NaN  \n",
       "15                             NaN  \n",
       "16                             NaN  \n",
       "17                             NaN  \n",
       "18                             NaN  \n",
       "19                             NaN  \n",
       "20                             NaN  \n",
       "21                             NaN  "
      ]
     },
     "execution_count": 3,
     "metadata": {},
     "output_type": "execute_result"
    }
   ],
   "source": [
    "## have a look at the data and print it to the screen.\n",
    "data"
   ]
  },
  {
   "cell_type": "code",
   "execution_count": 4,
   "metadata": {
    "collapsed": true
   },
   "outputs": [],
   "source": [
    "## Now we can read in only what items we want and give each column a better name.\n",
    "data = pd.read_excel('BoltData.xlsx', \n",
    "                        names=('distance', 'err_distance', 'time', 'err_time'), \n",
    "                        usecols=(0,1,2,3), \n",
    "                        skipfooter=12)"
   ]
  },
  {
   "cell_type": "code",
   "execution_count": 5,
   "metadata": {},
   "outputs": [
    {
     "data": {
      "text/html": [
       "<div>\n",
       "<style>\n",
       "    .dataframe thead tr:only-child th {\n",
       "        text-align: right;\n",
       "    }\n",
       "\n",
       "    .dataframe thead th {\n",
       "        text-align: left;\n",
       "    }\n",
       "\n",
       "    .dataframe tbody tr th {\n",
       "        vertical-align: top;\n",
       "    }\n",
       "</style>\n",
       "<table border=\"1\" class=\"dataframe\">\n",
       "  <thead>\n",
       "    <tr style=\"text-align: right;\">\n",
       "      <th></th>\n",
       "      <th>distance</th>\n",
       "      <th>err_distance</th>\n",
       "      <th>time</th>\n",
       "      <th>err_time</th>\n",
       "    </tr>\n",
       "  </thead>\n",
       "  <tbody>\n",
       "    <tr>\n",
       "      <th>0</th>\n",
       "      <td>0</td>\n",
       "      <td>0.02</td>\n",
       "      <td>0.000000</td>\n",
       "      <td>1.004810</td>\n",
       "    </tr>\n",
       "    <tr>\n",
       "      <th>1</th>\n",
       "      <td>10</td>\n",
       "      <td>0.02</td>\n",
       "      <td>0.923422</td>\n",
       "      <td>0.637569</td>\n",
       "    </tr>\n",
       "    <tr>\n",
       "      <th>2</th>\n",
       "      <td>20</td>\n",
       "      <td>0.02</td>\n",
       "      <td>2.178145</td>\n",
       "      <td>0.382366</td>\n",
       "    </tr>\n",
       "    <tr>\n",
       "      <th>3</th>\n",
       "      <td>30</td>\n",
       "      <td>0.02</td>\n",
       "      <td>2.461897</td>\n",
       "      <td>0.911785</td>\n",
       "    </tr>\n",
       "    <tr>\n",
       "      <th>4</th>\n",
       "      <td>40</td>\n",
       "      <td>0.02</td>\n",
       "      <td>3.387051</td>\n",
       "      <td>0.198510</td>\n",
       "    </tr>\n",
       "    <tr>\n",
       "      <th>5</th>\n",
       "      <td>50</td>\n",
       "      <td>0.02</td>\n",
       "      <td>5.263879</td>\n",
       "      <td>1.152222</td>\n",
       "    </tr>\n",
       "    <tr>\n",
       "      <th>6</th>\n",
       "      <td>60</td>\n",
       "      <td>0.02</td>\n",
       "      <td>6.042705</td>\n",
       "      <td>0.161827</td>\n",
       "    </tr>\n",
       "    <tr>\n",
       "      <th>7</th>\n",
       "      <td>70</td>\n",
       "      <td>0.02</td>\n",
       "      <td>7.939192</td>\n",
       "      <td>0.732011</td>\n",
       "    </tr>\n",
       "    <tr>\n",
       "      <th>8</th>\n",
       "      <td>80</td>\n",
       "      <td>0.02</td>\n",
       "      <td>8.221779</td>\n",
       "      <td>1.267329</td>\n",
       "    </tr>\n",
       "    <tr>\n",
       "      <th>9</th>\n",
       "      <td>90</td>\n",
       "      <td>0.02</td>\n",
       "      <td>8.578128</td>\n",
       "      <td>0.590908</td>\n",
       "    </tr>\n",
       "  </tbody>\n",
       "</table>\n",
       "</div>"
      ],
      "text/plain": [
       "   distance  err_distance      time  err_time\n",
       "0         0          0.02  0.000000  1.004810\n",
       "1        10          0.02  0.923422  0.637569\n",
       "2        20          0.02  2.178145  0.382366\n",
       "3        30          0.02  2.461897  0.911785\n",
       "4        40          0.02  3.387051  0.198510\n",
       "5        50          0.02  5.263879  1.152222\n",
       "6        60          0.02  6.042705  0.161827\n",
       "7        70          0.02  7.939192  0.732011\n",
       "8        80          0.02  8.221779  1.267329\n",
       "9        90          0.02  8.578128  0.590908"
      ]
     },
     "execution_count": 5,
     "metadata": {},
     "output_type": "execute_result"
    }
   ],
   "source": [
    "## have a look at the dataframe just to make sure we have what we wanted.\n",
    "data"
   ]
  },
  {
   "cell_type": "code",
   "execution_count": 7,
   "metadata": {},
   "outputs": [
    {
     "data": {
      "text/plain": [
       "[<matplotlib.lines.Line2D at 0x155f7402b00>]"
      ]
     },
     "execution_count": 7,
     "metadata": {},
     "output_type": "execute_result"
    },
    {
     "data": {
      "image/png": "[encoded data removed]",
      "text/plain": [
       "<matplotlib.figure.Figure at 0x155f7b14ef0>"
      ]
     },
     "metadata": {
      "image/png": {
       "height": 250,
       "width": 364
      }
     },
     "output_type": "display_data"
    }
   ],
   "source": [
    "# our first plot quick and easy just to see what the data looks like. plot (x stuff, and y stuff).\n",
    "plt.plot( data.distance , data.time )"
   ]
  },
  {
   "cell_type": "markdown",
   "metadata": {},
   "source": [
    "Now we have the data in the computer we can produce a nice graph of it. The code below has various comments to guide as to what's what. You can play with all the various settings to change the graph. Just keeping clicking the \"run\" button to see what your new version looks like. It you want more advanced stuff then you'll need to do more reading. See the help for matplotlib and have a look at the tutorials: http://blogs.bath.ac.uk/python/data-analysis-with-jupyter-notebooks/"
   ]
  },
  {
   "cell_type": "code",
   "execution_count": 61,
   "metadata": {},
   "outputs": [
    {
     "data": {
      "image/png": "[encoded data removed]",
      "text/plain": [
       "<matplotlib.figure.Figure at 0x155f8276860>"
      ]
     },
     "metadata": {
      "image/png": {
       "height": 378,
       "width": 617
      }
     },
     "output_type": "display_data"
    }
   ],
   "source": [
    "# Create a \"figure\" and set its aspect ratio. Play with the numbers to make it square, or long or short. \n",
    "fig = plt.figure(figsize=(10,6))\n",
    "\n",
    "# Here we only want one plot in the figure to a 1 by 1 set of plots and this is number 1. Leave alone for now. \n",
    "ax = fig.add_subplot(111)\n",
    "\n",
    "# This nest bit does a lot of work and plots a graph with error bars.\n",
    "ax.errorbar(data.distance,           # x coordinates\n",
    "             data.time,              # y coordinates\n",
    "             xerr=data.err_distance, # x errors\n",
    "             yerr=data.err_time,     # y errors\n",
    "             marker='o',             # marker used is a cicle 'o'. Could be crosses 'x', or squares 's', or 'none'\n",
    "             markersize = 7,        # marker size\n",
    "             color='black',          # overall colour I think\n",
    "             ecolor='black',         # edge colour for you marker\n",
    "             markerfacecolor='black',\n",
    "             linestyle='none',       # no line joining markers, could be a line '-', or a dashed line '--'\n",
    "             capsize=6,              # width of the end bit of the error bars, not too small nor too big please.\n",
    "             )\n",
    "\n",
    "plt.xlabel('Distance run / m')       # You can use Latex here is you wish, e.g., 'Distance run / 10$^{-3}$ km'\n",
    "plt.ylabel('Time / s')\n",
    "\n",
    "plt.xlim(-4, 102)                    # extent of the x axis, smallest to largest.\n",
    "plt.ylim(-1.5, 10.5)                 \n",
    "\n",
    "plt.tick_params(direction='in',      # I like 'in', could be 'out' or both 'inout'\n",
    "                length=7,            # A reasonable length\n",
    "                bottom='on',         # I want ticks on the bottom axes\n",
    "                left='on',\n",
    "                top='on',\n",
    "                right='on',\n",
    "                \n",
    "               )\n",
    "plt.rcParams.update({'font.size':15})   # A decent font size so the text is readible. \n",
    "                                        # You may have to play with the aspect ration aobe and this to get a nice \n",
    "                                        # looking figure in your report.\n",
    "\n",
    "def line(x, slope, intercept):          # Set up the linear fitting - don't ammend\n",
    "    return slope*x + intercept          # More set up, leave alone.\n",
    "\n",
    "# Next few line, fits a line to the (x data, and y data) no need to change things.\n",
    "popt, pcov = curve_fit(line,data.distance,data.time)\n",
    "slope = popt[0]\n",
    "intercept = popt[1]\n",
    "err_slope = np.sqrt(float(pcov[0][0]))\n",
    "err_intercept = np.sqrt(float(pcov[1][1]))\n",
    "\n",
    "# Plot the linear fit to the graph, generate coordinates by working out the y coordinates for each \n",
    "# x-value you have measured. A bit of a poor way of doing it but nevermind.\n",
    "plt.plot(data.distance, data.distance*slope+intercept, \n",
    "         linestyle='--',\n",
    "         color='black')\n",
    "\n",
    "plt.show() # Display the graph below."
   ]
  },
  {
   "cell_type": "code",
   "execution_count": 62,
   "metadata": {},
   "outputs": [
    {
     "name": "stdout",
     "output_type": "stream",
     "text": [
      "Slope: 0.103 +- 0.005\n",
      "Intercept: -0.129 +- 0.280\n"
     ]
    }
   ],
   "source": [
    "# Print to the screen the value of the slope and the error and then the intercept and the error.\n",
    "print('Slope: {0:.3f} +- {1:.3f}'.format(slope, err_slope))\n",
    "print('Intercept: {0:.3f} +- {1:.3f}'.format(intercept, err_intercept))"
   ]
  },
  {
   "cell_type": "code",
   "execution_count": 63,
   "metadata": {
    "collapsed": true
   },
   "outputs": [],
   "source": [
    "fig.savefig('Basic.png', dpi=300) # save the graph to a file."
   ]
  },
  {
   "cell_type": "code",
   "execution_count": null,
   "metadata": {
    "collapsed": true
   },
   "outputs": [],
   "source": []
  }
 ],
 "metadata": {
  "kernelspec": {
   "display_name": "Python 3",
   "language": "python",
   "name": "python3"
  },
  "language_info": {
   "codemirror_mode": {
    "name": "ipython",
    "version": 3
   },
   "file_extension": ".py",
   "mimetype": "text/x-python",
   "name": "python",
   "nbconvert_exporter": "python",
   "pygments_lexer": "ipython3",
   "version": "3.5.1"
  }
 },
 "nbformat": 4,
 "nbformat_minor": 2
}
