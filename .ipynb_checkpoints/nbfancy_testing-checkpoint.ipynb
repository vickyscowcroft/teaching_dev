{
  "cells": [
    {
      "metadata": {
        "trusted": true,
        "scrolled": true
      },
      "cell_type": "code",
      "source": "!pip install nbfancy\n",
      "execution_count": 1,
      "outputs": [
        {
          "output_type": "stream",
          "text": "Collecting nbfancy\n  Using cached https://files.pythonhosted.org/packages/5c/b5/31fa55958bf84edeff16f40bea68d0ac048ac2eb480783c293343faa7854/nbfancy-0.1.dev2-py3-none-any.whl\nRequirement already satisfied: ipython>=6 in /home/nbuser/anaconda3_501/lib/python3.6/site-packages (from nbfancy) (7.1.1)\nRequirement already satisfied: jupyter in /home/nbuser/anaconda3_501/lib/python3.6/site-packages (from nbfancy) (1.0.0)\nRequirement already satisfied: pickleshare in /home/nbuser/anaconda3_501/lib/python3.6/site-packages (from ipython>=6->nbfancy) (0.7.5)\nRequirement already satisfied: prompt-toolkit<2.1.0,>=2.0.0 in /home/nbuser/anaconda3_501/lib/python3.6/site-packages (from ipython>=6->nbfancy) (2.0.7)\nRequirement already satisfied: setuptools>=18.5 in /home/nbuser/anaconda3_501/lib/python3.6/site-packages (from ipython>=6->nbfancy) (41.0.1)\nRequirement already satisfied: jedi>=0.10 in /home/nbuser/anaconda3_501/lib/python3.6/site-packages (from ipython>=6->nbfancy) (0.13.1)\nRequirement already satisfied: decorator in /home/nbuser/anaconda3_501/lib/python3.6/site-packages (from ipython>=6->nbfancy) (4.3.0)\nRequirement already satisfied: pygments in /home/nbuser/anaconda3_501/lib/python3.6/site-packages (from ipython>=6->nbfancy) (2.2.0)\nRequirement already satisfied: backcall in /home/nbuser/anaconda3_501/lib/python3.6/site-packages (from ipython>=6->nbfancy) (0.1.0)\nRequirement already satisfied: traitlets>=4.2 in /home/nbuser/anaconda3_501/lib/python3.6/site-packages (from ipython>=6->nbfancy) (4.3.2)\nRequirement already satisfied: pexpect; sys_platform != \"win32\" in /home/nbuser/anaconda3_501/lib/python3.6/site-packages (from ipython>=6->nbfancy) (4.6.0)\nRequirement already satisfied: jupyter-console in /home/nbuser/anaconda3_501/lib/python3.6/site-packages (from jupyter->nbfancy) (6.0.0)\nRequirement already satisfied: ipykernel in /home/nbuser/anaconda3_501/lib/python3.6/site-packages (from jupyter->nbfancy) (5.1.0)\nRequirement already satisfied: qtconsole in /home/nbuser/anaconda3_501/lib/python3.6/site-packages (from jupyter->nbfancy) (4.4.2)\nRequirement already satisfied: nbconvert in /home/nbuser/anaconda3_501/lib/python3.6/site-packages (from jupyter->nbfancy) (5.5.0)\nRequirement already satisfied: ipywidgets in /home/nbuser/anaconda3_501/lib/python3.6/site-packages (from jupyter->nbfancy) (7.4.2)\nRequirement already satisfied: notebook in /home/nbuser/anaconda3_501/lib/python3.6/site-packages (from jupyter->nbfancy) (5.7.2)\nRequirement already satisfied: wcwidth in /home/nbuser/anaconda3_501/lib/python3.6/site-packages (from prompt-toolkit<2.1.0,>=2.0.0->ipython>=6->nbfancy) (0.1.7)\nRequirement already satisfied: six>=1.9.0 in /home/nbuser/anaconda3_501/lib/python3.6/site-packages (from prompt-toolkit<2.1.0,>=2.0.0->ipython>=6->nbfancy) (1.11.0)\nRequirement already satisfied: parso>=0.3.0 in /home/nbuser/anaconda3_501/lib/python3.6/site-packages (from jedi>=0.10->ipython>=6->nbfancy) (0.3.1)\nRequirement already satisfied: ipython-genutils in /home/nbuser/anaconda3_501/lib/python3.6/site-packages (from traitlets>=4.2->ipython>=6->nbfancy) (0.2.0)\nRequirement already satisfied: ptyprocess>=0.5 in /home/nbuser/anaconda3_501/lib/python3.6/site-packages (from pexpect; sys_platform != \"win32\"->ipython>=6->nbfancy) (0.6.0)\nRequirement already satisfied: jupyter_client in /home/nbuser/anaconda3_501/lib/python3.6/site-packages (from jupyter-console->jupyter->nbfancy) (5.2.3)\nRequirement already satisfied: tornado>=4.2 in /home/nbuser/anaconda3_501/lib/python3.6/site-packages (from ipykernel->jupyter->nbfancy) (4.5.3)\nRequirement already satisfied: jupyter_core in /home/nbuser/anaconda3_501/lib/python3.6/site-packages (from qtconsole->jupyter->nbfancy) (4.4.0)\nRequirement already satisfied: pandocfilters>=1.4.1 in /home/nbuser/anaconda3_501/lib/python3.6/site-packages (from nbconvert->jupyter->nbfancy) (1.4.2)\nRequirement already satisfied: bleach in /home/nbuser/anaconda3_501/lib/python3.6/site-packages (from nbconvert->jupyter->nbfancy) (1.5.0)\nRequirement already satisfied: nbformat>=4.4 in /home/nbuser/anaconda3_501/lib/python3.6/site-packages (from nbconvert->jupyter->nbfancy) (4.4.0)\nRequirement already satisfied: defusedxml in /home/nbuser/anaconda3_501/lib/python3.6/site-packages (from nbconvert->jupyter->nbfancy) (0.5.0)\nRequirement already satisfied: testpath in /home/nbuser/anaconda3_501/lib/python3.6/site-packages (from nbconvert->jupyter->nbfancy) (0.4.2)\nRequirement already satisfied: entrypoints>=0.2.2 in /home/nbuser/anaconda3_501/lib/python3.6/site-packages (from nbconvert->jupyter->nbfancy) (0.2.3)\nRequirement already satisfied: jinja2>=2.4 in /home/nbuser/anaconda3_501/lib/python3.6/site-packages (from nbconvert->jupyter->nbfancy) (2.10)\nRequirement already satisfied: mistune>=0.8.1 in /home/nbuser/anaconda3_501/lib/python3.6/site-packages (from nbconvert->jupyter->nbfancy) (0.8.4)\nRequirement already satisfied: widgetsnbextension~=3.4.0 in /home/nbuser/anaconda3_501/lib/python3.6/site-packages (from ipywidgets->jupyter->nbfancy) (3.4.2)\nRequirement already satisfied: pyzmq>=17 in /home/nbuser/anaconda3_501/lib/python3.6/site-packages (from notebook->jupyter->nbfancy) (17.1.2)\nRequirement already satisfied: prometheus-client in /home/nbuser/anaconda3_501/lib/python3.6/site-packages (from notebook->jupyter->nbfancy) (0.4.2)\nRequirement already satisfied: Send2Trash in /home/nbuser/anaconda3_501/lib/python3.6/site-packages (from notebook->jupyter->nbfancy) (1.5.0)\nRequirement already satisfied: terminado>=0.8.1 in /home/nbuser/anaconda3_501/lib/python3.6/site-packages (from notebook->jupyter->nbfancy) (0.8.1)\nRequirement already satisfied: python-dateutil>=2.1 in /home/nbuser/anaconda3_501/lib/python3.6/site-packages (from jupyter_client->jupyter-console->jupyter->nbfancy) (2.8.0)\nRequirement already satisfied: html5lib!=0.9999,!=0.99999,<0.99999999,>=0.999 in /home/nbuser/anaconda3_501/lib/python3.6/site-packages (from bleach->nbconvert->jupyter->nbfancy) (0.9999999)\nRequirement already satisfied: jsonschema!=2.5.0,>=2.4 in /home/nbuser/anaconda3_501/lib/python3.6/site-packages (from nbformat>=4.4->nbconvert->jupyter->nbfancy) (2.6.0)\nRequirement already satisfied: MarkupSafe>=0.23 in /home/nbuser/anaconda3_501/lib/python3.6/site-packages (from jinja2>=2.4->nbconvert->jupyter->nbfancy) (1.1.0)\nInstalling collected packages: nbfancy\nSuccessfully installed nbfancy-0.1.dev2\n",
          "name": "stdout"
        }
      ]
    },
    {
      "metadata": {
        "trusted": true
      },
      "cell_type": "code",
      "source": "!nbfancy configure -y jupyter_css\n",
      "execution_count": 2,
      "outputs": [
        {
          "output_type": "stream",
          "text": "Your global config has been updated\r\n",
          "name": "stdout"
        }
      ]
    },
    {
      "metadata": {
        "trusted": true
      },
      "cell_type": "code",
      "source": "!nbfancy init",
      "execution_count": 3,
      "outputs": []
    },
    {
      "metadata": {
        "trusted": true
      },
      "cell_type": "code",
      "source": "%%bash\nnbfancy rerun",
      "execution_count": 24,
      "outputs": [
        {
          "output_type": "stream",
          "text": "Reading input file: 00_schedule.ipynb\nWriting output file: 00_schedule.ipynb\nReading input file: 01_untitled_episode.ipynb\nWriting output file: 01_untitled_episode.ipynb\nReading input file: 99_episode_template.ipynb\nWriting output file: 99_episode_template.ipynb\nReading input file: BoltGraph_v2.ipynb\nWriting output file: BoltGraph_v2.ipynb\n",
          "name": "stdout"
        }
      ]
    },
    {
      "metadata": {
        "trusted": true
      },
      "cell_type": "code",
      "source": "%%bash\nnbfancy render",
      "execution_count": 25,
      "outputs": [
        {
          "output_type": "stream",
          "text": "Reading input file: 00_schedule.ipynb\nWriting output file: 00_schedule.ipynb\nReading input file: 01_untitled_episode.ipynb\nWriting output file: 01_untitled_episode.ipynb\nReading input file: 99_episode_template.ipynb\nWriting output file: 99_episode_template.ipynb\nWriting output file: 99_episode_template-soln.ipynb\nReading input file: BoltGraph_v2.ipynb\n",
          "name": "stdout"
        },
        {
          "output_type": "stream",
          "text": "Traceback (most recent call last):\n  File \"/home/nbuser/anaconda3_501/bin/nbfancy\", line 10, in <module>\n    sys.exit(main())\n  File \"/home/nbuser/anaconda3_501/lib/python3.6/site-packages/nbfancy/__main__.py\", line 374, in main\n    call(args)\n  File \"/home/nbuser/anaconda3_501/lib/python3.6/site-packages/nbfancy/__main__.py\", line 258, in render\n    footer=footer)\n  File \"/home/nbuser/anaconda3_501/lib/python3.6/site-packages/nbfancy/nbfancy_tools.py\", line 339, in notebook2rendered\n    htmlbody = box_body(line[1:], config, template, solnfilename, link=link, multicell=multicellnb)\n  File \"/home/nbuser/anaconda3_501/lib/python3.6/site-packages/nbfancy/nbfancy_tools.py\", line 198, in decorated_f\n    return f(*args, **kwargs)\n  File \"/home/nbuser/anaconda3_501/lib/python3.6/site-packages/nbfancy/nbfancy_tools.py\", line 254, in box_body\n    if htmlbody[-1] == '\\n':\nIndexError: string index out of range\n",
          "name": "stderr"
        },
        {
          "output_type": "error",
          "ename": "CalledProcessError",
          "evalue": "Command 'b'nbfancy render\\n'' returned non-zero exit status 1.",
          "traceback": [
            "\u001b[0;31m---------------------------------------------------------------------------\u001b[0m",
            "\u001b[0;31mCalledProcessError\u001b[0m                        Traceback (most recent call last)",
            "\u001b[0;32m<ipython-input-25-9112a61ec91f>\u001b[0m in \u001b[0;36m<module>\u001b[0;34m\u001b[0m\n\u001b[0;32m----> 1\u001b[0;31m \u001b[0mget_ipython\u001b[0m\u001b[0;34m(\u001b[0m\u001b[0;34m)\u001b[0m\u001b[0;34m.\u001b[0m\u001b[0mrun_cell_magic\u001b[0m\u001b[0;34m(\u001b[0m\u001b[0;34m'bash'\u001b[0m\u001b[0;34m,\u001b[0m \u001b[0;34m''\u001b[0m\u001b[0;34m,\u001b[0m \u001b[0;34m'nbfancy render\\n'\u001b[0m\u001b[0;34m)\u001b[0m\u001b[0;34m\u001b[0m\u001b[0m\n\u001b[0m",
            "\u001b[0;32m~/anaconda3_501/lib/python3.6/site-packages/IPython/core/interactiveshell.py\u001b[0m in \u001b[0;36mrun_cell_magic\u001b[0;34m(self, magic_name, line, cell)\u001b[0m\n\u001b[1;32m   2321\u001b[0m             \u001b[0mmagic_arg_s\u001b[0m \u001b[0;34m=\u001b[0m \u001b[0mself\u001b[0m\u001b[0;34m.\u001b[0m\u001b[0mvar_expand\u001b[0m\u001b[0;34m(\u001b[0m\u001b[0mline\u001b[0m\u001b[0;34m,\u001b[0m \u001b[0mstack_depth\u001b[0m\u001b[0;34m)\u001b[0m\u001b[0;34m\u001b[0m\u001b[0m\n\u001b[1;32m   2322\u001b[0m             \u001b[0;32mwith\u001b[0m \u001b[0mself\u001b[0m\u001b[0;34m.\u001b[0m\u001b[0mbuiltin_trap\u001b[0m\u001b[0;34m:\u001b[0m\u001b[0;34m\u001b[0m\u001b[0m\n\u001b[0;32m-> 2323\u001b[0;31m                 \u001b[0mresult\u001b[0m \u001b[0;34m=\u001b[0m \u001b[0mfn\u001b[0m\u001b[0;34m(\u001b[0m\u001b[0mmagic_arg_s\u001b[0m\u001b[0;34m,\u001b[0m \u001b[0mcell\u001b[0m\u001b[0;34m)\u001b[0m\u001b[0;34m\u001b[0m\u001b[0m\n\u001b[0m\u001b[1;32m   2324\u001b[0m             \u001b[0;32mreturn\u001b[0m \u001b[0mresult\u001b[0m\u001b[0;34m\u001b[0m\u001b[0m\n\u001b[1;32m   2325\u001b[0m \u001b[0;34m\u001b[0m\u001b[0m\n",
            "\u001b[0;32m~/anaconda3_501/lib/python3.6/site-packages/IPython/core/magics/script.py\u001b[0m in \u001b[0;36mnamed_script_magic\u001b[0;34m(line, cell)\u001b[0m\n\u001b[1;32m    140\u001b[0m             \u001b[0;32melse\u001b[0m\u001b[0;34m:\u001b[0m\u001b[0;34m\u001b[0m\u001b[0m\n\u001b[1;32m    141\u001b[0m                 \u001b[0mline\u001b[0m \u001b[0;34m=\u001b[0m \u001b[0mscript\u001b[0m\u001b[0;34m\u001b[0m\u001b[0m\n\u001b[0;32m--> 142\u001b[0;31m             \u001b[0;32mreturn\u001b[0m \u001b[0mself\u001b[0m\u001b[0;34m.\u001b[0m\u001b[0mshebang\u001b[0m\u001b[0;34m(\u001b[0m\u001b[0mline\u001b[0m\u001b[0;34m,\u001b[0m \u001b[0mcell\u001b[0m\u001b[0;34m)\u001b[0m\u001b[0;34m\u001b[0m\u001b[0m\n\u001b[0m\u001b[1;32m    143\u001b[0m \u001b[0;34m\u001b[0m\u001b[0m\n\u001b[1;32m    144\u001b[0m         \u001b[0;31m# write a basic docstring:\u001b[0m\u001b[0;34m\u001b[0m\u001b[0;34m\u001b[0m\u001b[0m\n",
            "\u001b[0;32m<decorator-gen-109>\u001b[0m in \u001b[0;36mshebang\u001b[0;34m(self, line, cell)\u001b[0m\n",
            "\u001b[0;32m~/anaconda3_501/lib/python3.6/site-packages/IPython/core/magic.py\u001b[0m in \u001b[0;36m<lambda>\u001b[0;34m(f, *a, **k)\u001b[0m\n\u001b[1;32m    185\u001b[0m     \u001b[0;31m# but it's overkill for just that one bit of state.\u001b[0m\u001b[0;34m\u001b[0m\u001b[0;34m\u001b[0m\u001b[0m\n\u001b[1;32m    186\u001b[0m     \u001b[0;32mdef\u001b[0m \u001b[0mmagic_deco\u001b[0m\u001b[0;34m(\u001b[0m\u001b[0marg\u001b[0m\u001b[0;34m)\u001b[0m\u001b[0;34m:\u001b[0m\u001b[0;34m\u001b[0m\u001b[0m\n\u001b[0;32m--> 187\u001b[0;31m         \u001b[0mcall\u001b[0m \u001b[0;34m=\u001b[0m \u001b[0;32mlambda\u001b[0m \u001b[0mf\u001b[0m\u001b[0;34m,\u001b[0m \u001b[0;34m*\u001b[0m\u001b[0ma\u001b[0m\u001b[0;34m,\u001b[0m \u001b[0;34m**\u001b[0m\u001b[0mk\u001b[0m\u001b[0;34m:\u001b[0m \u001b[0mf\u001b[0m\u001b[0;34m(\u001b[0m\u001b[0;34m*\u001b[0m\u001b[0ma\u001b[0m\u001b[0;34m,\u001b[0m \u001b[0;34m**\u001b[0m\u001b[0mk\u001b[0m\u001b[0;34m)\u001b[0m\u001b[0;34m\u001b[0m\u001b[0m\n\u001b[0m\u001b[1;32m    188\u001b[0m \u001b[0;34m\u001b[0m\u001b[0m\n\u001b[1;32m    189\u001b[0m         \u001b[0;32mif\u001b[0m \u001b[0mcallable\u001b[0m\u001b[0;34m(\u001b[0m\u001b[0marg\u001b[0m\u001b[0;34m)\u001b[0m\u001b[0;34m:\u001b[0m\u001b[0;34m\u001b[0m\u001b[0m\n",
            "\u001b[0;32m~/anaconda3_501/lib/python3.6/site-packages/IPython/core/magics/script.py\u001b[0m in \u001b[0;36mshebang\u001b[0;34m(self, line, cell)\u001b[0m\n\u001b[1;32m    243\u001b[0m             \u001b[0msys\u001b[0m\u001b[0;34m.\u001b[0m\u001b[0mstderr\u001b[0m\u001b[0;34m.\u001b[0m\u001b[0mflush\u001b[0m\u001b[0;34m(\u001b[0m\u001b[0;34m)\u001b[0m\u001b[0;34m\u001b[0m\u001b[0m\n\u001b[1;32m    244\u001b[0m         \u001b[0;32mif\u001b[0m \u001b[0margs\u001b[0m\u001b[0;34m.\u001b[0m\u001b[0mraise_error\u001b[0m \u001b[0;32mand\u001b[0m \u001b[0mp\u001b[0m\u001b[0;34m.\u001b[0m\u001b[0mreturncode\u001b[0m\u001b[0;34m!=\u001b[0m\u001b[0;36m0\u001b[0m\u001b[0;34m:\u001b[0m\u001b[0;34m\u001b[0m\u001b[0m\n\u001b[0;32m--> 245\u001b[0;31m             \u001b[0;32mraise\u001b[0m \u001b[0mCalledProcessError\u001b[0m\u001b[0;34m(\u001b[0m\u001b[0mp\u001b[0m\u001b[0;34m.\u001b[0m\u001b[0mreturncode\u001b[0m\u001b[0;34m,\u001b[0m \u001b[0mcell\u001b[0m\u001b[0;34m,\u001b[0m \u001b[0moutput\u001b[0m\u001b[0;34m=\u001b[0m\u001b[0mout\u001b[0m\u001b[0;34m,\u001b[0m \u001b[0mstderr\u001b[0m\u001b[0;34m=\u001b[0m\u001b[0merr\u001b[0m\u001b[0;34m)\u001b[0m\u001b[0;34m\u001b[0m\u001b[0m\n\u001b[0m\u001b[1;32m    246\u001b[0m \u001b[0;34m\u001b[0m\u001b[0m\n\u001b[1;32m    247\u001b[0m     \u001b[0;32mdef\u001b[0m \u001b[0m_run_script\u001b[0m\u001b[0;34m(\u001b[0m\u001b[0mself\u001b[0m\u001b[0;34m,\u001b[0m \u001b[0mp\u001b[0m\u001b[0;34m,\u001b[0m \u001b[0mcell\u001b[0m\u001b[0;34m,\u001b[0m \u001b[0mto_close\u001b[0m\u001b[0;34m)\u001b[0m\u001b[0;34m:\u001b[0m\u001b[0;34m\u001b[0m\u001b[0m\n",
            "\u001b[0;31mCalledProcessError\u001b[0m: Command 'b'nbfancy render\\n'' returned non-zero exit status 1."
          ]
        }
      ]
    },
    {
      "metadata": {
        "trusted": true
      },
      "cell_type": "code",
      "source": "%%bash\nnbfancy html",
      "execution_count": 11,
      "outputs": [
        {
          "output_type": "stream",
          "text": "Reading input file: 00_schedule.ipynb\nWriting output file: 00_schedule.html\nReading input file: 01_untitled_episode.ipynb\nWriting output file: 01_untitled_episode.html\nReading input file: 99_episode_template.ipynb\nWriting output file: 99_episode_template.html\nReading input file: BoltGraph_v2.ipynb\nWriting output file: BoltGraph_v2.html\nReading input file: 99_episode_template-soln.ipynb\nWriting output file: 99_episode_template-soln.html\n",
          "name": "stdout"
        }
      ]
    },
    {
      "metadata": {
        "trusted": true
      },
      "cell_type": "code",
      "source": "!pwd",
      "execution_count": 23,
      "outputs": [
        {
          "output_type": "stream",
          "text": "/home/nbuser/library\r\n",
          "name": "stdout"
        }
      ]
    },
    {
      "metadata": {
        "trusted": true
      },
      "cell_type": "code",
      "source": "",
      "execution_count": null,
      "outputs": []
    }
  ],
  "metadata": {
    "kernelspec": {
      "name": "python36",
      "display_name": "Python 3.6",
      "language": "python"
    },
    "language_info": {
      "mimetype": "text/x-python",
      "nbconvert_exporter": "python",
      "name": "python",
      "pygments_lexer": "ipython3",
      "version": "3.6.6",
      "file_extension": ".py",
      "codemirror_mode": {
        "version": 3,
        "name": "ipython"
      }
    }
  },
  "nbformat": 4,
  "nbformat_minor": 2
}