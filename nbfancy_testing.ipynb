{
  "cells": [
    {
      "metadata": {
        "trusted": true,
        "scrolled": true
      },
      "cell_type": "code",
      "source": "!pip install nbfancy\n",
      "execution_count": 2,
      "outputs": [
        {
          "output_type": "stream",
          "text": "Collecting nbfancy\n\u001b[?25l  Downloading https://files.pythonhosted.org/packages/5c/b5/31fa55958bf84edeff16f40bea68d0ac048ac2eb480783c293343faa7854/nbfancy-0.1.dev2-py3-none-any.whl (166kB)\n\u001b[K     |████████████████████████████████| 174kB 1.2MB/s eta 0:00:01\n\u001b[?25hRequirement already satisfied: jupyter in /home/nbuser/anaconda3_501/lib/python3.6/site-packages (from nbfancy) (1.0.0)\nRequirement already satisfied: ipython>=6 in /home/nbuser/anaconda3_501/lib/python3.6/site-packages (from nbfancy) (7.1.1)\nRequirement already satisfied: jupyter-console in /home/nbuser/anaconda3_501/lib/python3.6/site-packages (from jupyter->nbfancy) (6.0.0)\nRequirement already satisfied: ipykernel in /home/nbuser/anaconda3_501/lib/python3.6/site-packages (from jupyter->nbfancy) (5.1.0)\nRequirement already satisfied: nbconvert in /home/nbuser/anaconda3_501/lib/python3.6/site-packages (from jupyter->nbfancy) (5.5.0)\nRequirement already satisfied: qtconsole in /home/nbuser/anaconda3_501/lib/python3.6/site-packages (from jupyter->nbfancy) (4.4.2)\nRequirement already satisfied: notebook in /home/nbuser/anaconda3_501/lib/python3.6/site-packages (from jupyter->nbfancy) (5.7.2)\nRequirement already satisfied: ipywidgets in /home/nbuser/anaconda3_501/lib/python3.6/site-packages (from jupyter->nbfancy) (7.4.2)\nRequirement already satisfied: pexpect; sys_platform != \"win32\" in /home/nbuser/anaconda3_501/lib/python3.6/site-packages (from ipython>=6->nbfancy) (4.6.0)\nRequirement already satisfied: setuptools>=18.5 in /home/nbuser/anaconda3_501/lib/python3.6/site-packages (from ipython>=6->nbfancy) (41.0.1)\nRequirement already satisfied: traitlets>=4.2 in /home/nbuser/anaconda3_501/lib/python3.6/site-packages (from ipython>=6->nbfancy) (4.3.2)\nRequirement already satisfied: pickleshare in /home/nbuser/anaconda3_501/lib/python3.6/site-packages (from ipython>=6->nbfancy) (0.7.5)\nRequirement already satisfied: jedi>=0.10 in /home/nbuser/anaconda3_501/lib/python3.6/site-packages (from ipython>=6->nbfancy) (0.13.1)\nRequirement already satisfied: prompt-toolkit<2.1.0,>=2.0.0 in /home/nbuser/anaconda3_501/lib/python3.6/site-packages (from ipython>=6->nbfancy) (2.0.7)\nRequirement already satisfied: backcall in /home/nbuser/anaconda3_501/lib/python3.6/site-packages (from ipython>=6->nbfancy) (0.1.0)\nRequirement already satisfied: pygments in /home/nbuser/anaconda3_501/lib/python3.6/site-packages (from ipython>=6->nbfancy) (2.2.0)\nRequirement already satisfied: decorator in /home/nbuser/anaconda3_501/lib/python3.6/site-packages (from ipython>=6->nbfancy) (4.3.0)\nRequirement already satisfied: jupyter_client in /home/nbuser/anaconda3_501/lib/python3.6/site-packages (from jupyter-console->jupyter->nbfancy) (5.2.3)\nRequirement already satisfied: tornado>=4.2 in /home/nbuser/anaconda3_501/lib/python3.6/site-packages (from ipykernel->jupyter->nbfancy) (4.5.3)\nRequirement already satisfied: jupyter-core in /home/nbuser/anaconda3_501/lib/python3.6/site-packages (from nbconvert->jupyter->nbfancy) (4.4.0)\nRequirement already satisfied: bleach in /home/nbuser/anaconda3_501/lib/python3.6/site-packages (from nbconvert->jupyter->nbfancy) (1.5.0)\nRequirement already satisfied: pandocfilters>=1.4.1 in /home/nbuser/anaconda3_501/lib/python3.6/site-packages (from nbconvert->jupyter->nbfancy) (1.4.2)\nRequirement already satisfied: testpath in /home/nbuser/anaconda3_501/lib/python3.6/site-packages (from nbconvert->jupyter->nbfancy) (0.4.2)\nRequirement already satisfied: nbformat>=4.4 in /home/nbuser/anaconda3_501/lib/python3.6/site-packages (from nbconvert->jupyter->nbfancy) (4.4.0)\nRequirement already satisfied: jinja2>=2.4 in /home/nbuser/anaconda3_501/lib/python3.6/site-packages (from nbconvert->jupyter->nbfancy) (2.10)\nRequirement already satisfied: defusedxml in /home/nbuser/anaconda3_501/lib/python3.6/site-packages (from nbconvert->jupyter->nbfancy) (0.5.0)\nRequirement already satisfied: mistune>=0.8.1 in /home/nbuser/anaconda3_501/lib/python3.6/site-packages (from nbconvert->jupyter->nbfancy) (0.8.4)\nRequirement already satisfied: entrypoints>=0.2.2 in /home/nbuser/anaconda3_501/lib/python3.6/site-packages (from nbconvert->jupyter->nbfancy) (0.2.3)\nRequirement already satisfied: ipython_genutils in /home/nbuser/anaconda3_501/lib/python3.6/site-packages (from qtconsole->jupyter->nbfancy) (0.2.0)\nRequirement already satisfied: pyzmq>=17 in /home/nbuser/anaconda3_501/lib/python3.6/site-packages (from notebook->jupyter->nbfancy) (17.1.2)\nRequirement already satisfied: prometheus-client in /home/nbuser/anaconda3_501/lib/python3.6/site-packages (from notebook->jupyter->nbfancy) (0.4.2)\nRequirement already satisfied: Send2Trash in /home/nbuser/anaconda3_501/lib/python3.6/site-packages (from notebook->jupyter->nbfancy) (1.5.0)\nRequirement already satisfied: terminado>=0.8.1 in /home/nbuser/anaconda3_501/lib/python3.6/site-packages (from notebook->jupyter->nbfancy) (0.8.1)\nRequirement already satisfied: widgetsnbextension~=3.4.0 in /home/nbuser/anaconda3_501/lib/python3.6/site-packages (from ipywidgets->jupyter->nbfancy) (3.4.2)\nRequirement already satisfied: ptyprocess>=0.5 in /home/nbuser/anaconda3_501/lib/python3.6/site-packages (from pexpect; sys_platform != \"win32\"->ipython>=6->nbfancy) (0.6.0)\nRequirement already satisfied: six in /home/nbuser/anaconda3_501/lib/python3.6/site-packages (from traitlets>=4.2->ipython>=6->nbfancy) (1.11.0)\nRequirement already satisfied: parso>=0.3.0 in /home/nbuser/anaconda3_501/lib/python3.6/site-packages (from jedi>=0.10->ipython>=6->nbfancy) (0.3.1)\nRequirement already satisfied: wcwidth in /home/nbuser/anaconda3_501/lib/python3.6/site-packages (from prompt-toolkit<2.1.0,>=2.0.0->ipython>=6->nbfancy) (0.1.7)\nRequirement already satisfied: python-dateutil>=2.1 in /home/nbuser/anaconda3_501/lib/python3.6/site-packages (from jupyter_client->jupyter-console->jupyter->nbfancy) (2.8.0)\nRequirement already satisfied: html5lib!=0.9999,!=0.99999,<0.99999999,>=0.999 in /home/nbuser/anaconda3_501/lib/python3.6/site-packages (from bleach->nbconvert->jupyter->nbfancy) (0.9999999)\nRequirement already satisfied: jsonschema!=2.5.0,>=2.4 in /home/nbuser/anaconda3_501/lib/python3.6/site-packages (from nbformat>=4.4->nbconvert->jupyter->nbfancy) (2.6.0)\nRequirement already satisfied: MarkupSafe>=0.23 in /home/nbuser/anaconda3_501/lib/python3.6/site-packages (from jinja2>=2.4->nbconvert->jupyter->nbfancy) (1.1.0)\nInstalling collected packages: nbfancy\nSuccessfully installed nbfancy-0.1.dev2\n",
          "name": "stdout"
        }
      ]
    },
    {
      "metadata": {
        "trusted": true
      },
      "cell_type": "code",
      "source": "!nbfancy configure -y jupyter_css\n",
      "execution_count": 3,
      "outputs": [
        {
          "output_type": "stream",
          "text": "Your global config has been updated\r\n",
          "name": "stdout"
        }
      ]
    },
    {
      "metadata": {
        "trusted": true
      },
      "cell_type": "code",
      "source": "!nbfancy init",
      "execution_count": 7,
      "outputs": []
    },
    {
      "metadata": {
        "trusted": true
      },
      "cell_type": "code",
      "source": "!nbfancy rerun",
      "execution_count": 16,
      "outputs": [
        {
          "output_type": "stream",
          "text": "Reading input file: 00_schedule.ipynb\nWriting output file: 00_schedule.ipynb\nReading input file: 01_untitled_episode.ipynb\nWriting output file: 01_untitled_episode.ipynb\nReading input file: 02_Bolt_Graph.ipynb\nWriting output file: 02_Bolt_Graph.ipynb\nReading input file: 99_episode_template.ipynb\nWriting output file: 99_episode_template.ipynb\n",
          "name": "stdout"
        }
      ]
    },
    {
      "metadata": {
        "trusted": true
      },
      "cell_type": "code",
      "source": "!nbfancy render",
      "execution_count": null,
      "outputs": []
    },
    {
      "metadata": {
        "trusted": true
      },
      "cell_type": "code",
      "source": "%%bash\nnbfancy html",
      "execution_count": 15,
      "outputs": [
        {
          "output_type": "stream",
          "text": "Reading input file: 00_schedule.ipynb\nWriting output file: 00_schedule.html\nReading input file: 01_untitled_episode.ipynb\nWriting output file: 01_untitled_episode.html\nReading input file: 99_episode_template.ipynb\nWriting output file: 99_episode_template.html\nReading input file: BoltGraph_v2.ipynb\nWriting output file: BoltGraph_v2.html\nReading input file: 99_episode_template-soln.ipynb\nWriting output file: 99_episode_template-soln.html\n",
          "name": "stdout"
        }
      ]
    },
    {
      "metadata": {
        "trusted": true
      },
      "cell_type": "code",
      "source": "!pwd",
      "execution_count": 23,
      "outputs": [
        {
          "output_type": "stream",
          "text": "/home/nbuser/library\r\n",
          "name": "stdout"
        }
      ]
    },
    {
      "metadata": {
        "trusted": true
      },
      "cell_type": "code",
      "source": "",
      "execution_count": null,
      "outputs": []
    }
  ],
  "metadata": {
    "kernelspec": {
      "name": "python36",
      "display_name": "Python 3.6",
      "language": "python"
    },
    "language_info": {
      "mimetype": "text/x-python",
      "nbconvert_exporter": "python",
      "name": "python",
      "pygments_lexer": "ipython3",
      "version": "3.6.6",
      "file_extension": ".py",
      "codemirror_mode": {
        "version": 3,
        "name": "ipython"
      }
    }
  },
  "nbformat": 4,
  "nbformat_minor": 2
}