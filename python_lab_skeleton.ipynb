{
 "cells": [
  {
   "cell_type": "code",
   "execution_count": 1,
   "metadata": {},
   "outputs": [],
   "source": [
    "import matplotlib.pyplot as plt ### plotting things\n",
    "import numpy as np ## one of python's main maths packages\n",
    "import pandas as pd ## for reading in our data\n",
    "from scipy.optimize import curve_fit ## for fitting a line to our data\n",
    "import matplotlib.ticker as ticker ## this one lets us change some parameters in our plots.\n",
    "%matplotlib inline \n",
    "%config InlineBackend.figure_format = 'retina' \n",
    "from IPython.display import display, Markdown\n",
    "\n"
   ]
  },
  {
   "cell_type": "markdown",
   "metadata": {},
   "source": [
    "# Python plotting tutorial\n",
    "\n",
    "This notebook is to be used in conjunction with the [Plotting with Python in the [WL] labs tutorial](https://vickyscowcroft.github.io/teaching_dev/00_schedule.html]). It covers the sections from [reading in data](https://vickyscowcroft.github.io/teaching_dev/03_reading_data.html) onwards.\n",
    "\n",
    "Skeleton code is provided for you to edit and work with for the exercises in the tutorial."
   ]
  },
  {
   "cell_type": "markdown",
   "metadata": {},
   "source": [
    "## Reading in data with `pandas`"
   ]
  },
  {
   "cell_type": "markdown",
   "metadata": {},
   "source": [
    "## What is pandas?\n",
    "Unfortunately, this does not mean finding a panda to read our excel files.\n",
    "\n",
    "Pandas is the **Python Data Analysis Library**. It can read pretty much anything you throw at it. If you've been putting your lab data into an excel spreadsheet, pandas can read it in so you can analyse and plot it. You can find out more about what you can do with pandas [here](https://pandas.pydata.org/,\"pandas\")."
   ]
  },
  {
   "cell_type": "markdown",
   "metadata": {},
   "source": [
    "## Reading data from an Excel file\n",
    "Our first step is to read in our excel spreadsheet to a `pandas dataframe`. Pandas has different functions for different file types. For excel, we need `pd.read_excel`. Our dataframe will be called `data`, but it's best to use a more descriptive name for your variables."
   ]
  },
  {
   "cell_type": "code",
   "execution_count": 2,
   "metadata": {},
   "outputs": [],
   "source": [
    "data = pd.read_excel('../data/BoltData.xlsx') \n",
    "## Change this path if you've saved the data file somewhere else, e.g. \"Downloads/BoltData.xlsx\""
   ]
  },
  {
   "cell_type": "markdown",
   "metadata": {},
   "source": [
    "It's easy to look at what's in our dataframe. Just type the name of it and your dataframe is printed to the screen."
   ]
  },
  {
   "cell_type": "code",
   "execution_count": 3,
   "metadata": {},
   "outputs": [
    {
     "data": {
      "text/html": [
       "<div>\n",
       "<style scoped>\n",
       "    .dataframe tbody tr th:only-of-type {\n",
       "        vertical-align: middle;\n",
       "    }\n",
       "\n",
       "    .dataframe tbody tr th {\n",
       "        vertical-align: top;\n",
       "    }\n",
       "\n",
       "    .dataframe thead th {\n",
       "        text-align: right;\n",
       "    }\n",
       "</style>\n",
       "<table border=\"1\" class=\"dataframe\">\n",
       "  <thead>\n",
       "    <tr style=\"text-align: right;\">\n",
       "      <th></th>\n",
       "      <th>distance/m</th>\n",
       "      <th>Distnace uncertinty / m</th>\n",
       "      <th>time/s</th>\n",
       "      <th>Time measurment uncertinty / s</th>\n",
       "    </tr>\n",
       "  </thead>\n",
       "  <tbody>\n",
       "    <tr>\n",
       "      <th>0</th>\n",
       "      <td>0</td>\n",
       "      <td>0.02</td>\n",
       "      <td>0.000000</td>\n",
       "      <td>1.004810</td>\n",
       "    </tr>\n",
       "    <tr>\n",
       "      <th>1</th>\n",
       "      <td>10</td>\n",
       "      <td>0.02</td>\n",
       "      <td>0.923422</td>\n",
       "      <td>0.637569</td>\n",
       "    </tr>\n",
       "    <tr>\n",
       "      <th>2</th>\n",
       "      <td>20</td>\n",
       "      <td>0.02</td>\n",
       "      <td>2.178145</td>\n",
       "      <td>0.382366</td>\n",
       "    </tr>\n",
       "    <tr>\n",
       "      <th>3</th>\n",
       "      <td>30</td>\n",
       "      <td>0.02</td>\n",
       "      <td>2.461897</td>\n",
       "      <td>0.911785</td>\n",
       "    </tr>\n",
       "    <tr>\n",
       "      <th>4</th>\n",
       "      <td>40</td>\n",
       "      <td>0.02</td>\n",
       "      <td>3.387051</td>\n",
       "      <td>0.198510</td>\n",
       "    </tr>\n",
       "    <tr>\n",
       "      <th>5</th>\n",
       "      <td>50</td>\n",
       "      <td>0.02</td>\n",
       "      <td>5.263879</td>\n",
       "      <td>1.152222</td>\n",
       "    </tr>\n",
       "    <tr>\n",
       "      <th>6</th>\n",
       "      <td>60</td>\n",
       "      <td>0.02</td>\n",
       "      <td>6.042705</td>\n",
       "      <td>0.161827</td>\n",
       "    </tr>\n",
       "    <tr>\n",
       "      <th>7</th>\n",
       "      <td>70</td>\n",
       "      <td>0.02</td>\n",
       "      <td>7.939192</td>\n",
       "      <td>0.732011</td>\n",
       "    </tr>\n",
       "    <tr>\n",
       "      <th>8</th>\n",
       "      <td>80</td>\n",
       "      <td>0.02</td>\n",
       "      <td>8.221779</td>\n",
       "      <td>1.267329</td>\n",
       "    </tr>\n",
       "    <tr>\n",
       "      <th>9</th>\n",
       "      <td>90</td>\n",
       "      <td>0.02</td>\n",
       "      <td>8.578128</td>\n",
       "      <td>0.590908</td>\n",
       "    </tr>\n",
       "    <tr>\n",
       "      <th>10</th>\n",
       "      <td>100</td>\n",
       "      <td>0.02</td>\n",
       "      <td>9.562874</td>\n",
       "      <td>1.022337</td>\n",
       "    </tr>\n",
       "    <tr>\n",
       "      <th>11</th>\n",
       "      <td>NaN</td>\n",
       "      <td>NaN</td>\n",
       "      <td>NaN</td>\n",
       "      <td>NaN</td>\n",
       "    </tr>\n",
       "    <tr>\n",
       "      <th>12</th>\n",
       "      <td>NaN</td>\n",
       "      <td>NaN</td>\n",
       "      <td>NaN</td>\n",
       "      <td>NaN</td>\n",
       "    </tr>\n",
       "    <tr>\n",
       "      <th>13</th>\n",
       "      <td></td>\n",
       "      <td></td>\n",
       "      <td>NaN</td>\n",
       "      <td>NaN</td>\n",
       "    </tr>\n",
       "    <tr>\n",
       "      <th>14</th>\n",
       "      <td>NaN</td>\n",
       "      <td>NaN</td>\n",
       "      <td>NaN</td>\n",
       "      <td>NaN</td>\n",
       "    </tr>\n",
       "    <tr>\n",
       "      <th>15</th>\n",
       "      <td>NaN</td>\n",
       "      <td>NaN</td>\n",
       "      <td>NaN</td>\n",
       "      <td>NaN</td>\n",
       "    </tr>\n",
       "    <tr>\n",
       "      <th>16</th>\n",
       "      <td>NaN</td>\n",
       "      <td>NaN</td>\n",
       "      <td>NaN</td>\n",
       "      <td>NaN</td>\n",
       "    </tr>\n",
       "    <tr>\n",
       "      <th>17</th>\n",
       "      <td>NaN</td>\n",
       "      <td>NaN</td>\n",
       "      <td>NaN</td>\n",
       "      <td>NaN</td>\n",
       "    </tr>\n",
       "    <tr>\n",
       "      <th>18</th>\n",
       "      <td>NaN</td>\n",
       "      <td>NaN</td>\n",
       "      <td>NaN</td>\n",
       "      <td>NaN</td>\n",
       "    </tr>\n",
       "    <tr>\n",
       "      <th>19</th>\n",
       "      <td>NaN</td>\n",
       "      <td>NaN</td>\n",
       "      <td>NaN</td>\n",
       "      <td>NaN</td>\n",
       "    </tr>\n",
       "    <tr>\n",
       "      <th>20</th>\n",
       "      <td>NaN</td>\n",
       "      <td>NaN</td>\n",
       "      <td>NaN</td>\n",
       "      <td>NaN</td>\n",
       "    </tr>\n",
       "    <tr>\n",
       "      <th>21</th>\n",
       "      <td>NaN</td>\n",
       "      <td></td>\n",
       "      <td>NaN</td>\n",
       "      <td>NaN</td>\n",
       "    </tr>\n",
       "  </tbody>\n",
       "</table>\n",
       "</div>"
      ],
      "text/plain": [
       "   distance/m Distnace uncertinty / m    time/s  \\\n",
       "0           0                    0.02  0.000000   \n",
       "1          10                    0.02  0.923422   \n",
       "2          20                    0.02  2.178145   \n",
       "3          30                    0.02  2.461897   \n",
       "4          40                    0.02  3.387051   \n",
       "5          50                    0.02  5.263879   \n",
       "6          60                    0.02  6.042705   \n",
       "7          70                    0.02  7.939192   \n",
       "8          80                    0.02  8.221779   \n",
       "9          90                    0.02  8.578128   \n",
       "10        100                    0.02  9.562874   \n",
       "11        NaN                     NaN       NaN   \n",
       "12        NaN                     NaN       NaN   \n",
       "13                                          NaN   \n",
       "14        NaN                     NaN       NaN   \n",
       "15        NaN                     NaN       NaN   \n",
       "16        NaN                     NaN       NaN   \n",
       "17        NaN                     NaN       NaN   \n",
       "18        NaN                     NaN       NaN   \n",
       "19        NaN                     NaN       NaN   \n",
       "20        NaN                     NaN       NaN   \n",
       "21        NaN                               NaN   \n",
       "\n",
       "    Time measurment uncertinty / s  \n",
       "0                         1.004810  \n",
       "1                         0.637569  \n",
       "2                         0.382366  \n",
       "3                         0.911785  \n",
       "4                         0.198510  \n",
       "5                         1.152222  \n",
       "6                         0.161827  \n",
       "7                         0.732011  \n",
       "8                         1.267329  \n",
       "9                         0.590908  \n",
       "10                        1.022337  \n",
       "11                             NaN  \n",
       "12                             NaN  \n",
       "13                             NaN  \n",
       "14                             NaN  \n",
       "15                             NaN  \n",
       "16                             NaN  \n",
       "17                             NaN  \n",
       "18                             NaN  \n",
       "19                             NaN  \n",
       "20                             NaN  \n",
       "21                             NaN  "
      ]
     },
     "execution_count": 3,
     "metadata": {},
     "output_type": "execute_result"
    }
   ],
   "source": [
    "data"
   ]
  },
  {
   "cell_type": "markdown",
   "metadata": {},
   "source": [
    "## Tidying up our data\n",
    "Right now our data dataframe looks a bit of a mess. There's loads of missing or NaN (not a number) values, and our columns don't have very sensible names. We can re-read the data, specifying what we want to keep and give better names for our columns.\n"
   ]
  },
  {
   "cell_type": "markdown",
   "metadata": {},
   "source": [
    "## Column names\n",
    "`pandas` will let you use pretty much anything for a column name. However, some things make your dataframe much easier to work with:\n",
    "* Use descriptive names\n",
    "* **Don't** include spaces in column names - use underscores \\_ instead\n",
    "* Column names can't begin with a number"
   ]
  },
  {
   "cell_type": "code",
   "execution_count": 4,
   "metadata": {},
   "outputs": [],
   "source": [
    "data = pd.read_excel('../data/BoltData.xlsx', \n",
    "                        names=('distance', 'err_distance', 'time', 'err_time'), \n",
    "                        usecols=(0,1,2,3), \n",
    "                        nrows=11)"
   ]
  },
  {
   "cell_type": "code",
   "execution_count": 5,
   "metadata": {},
   "outputs": [
    {
     "data": {
      "text/html": [
       "<div>\n",
       "<style scoped>\n",
       "    .dataframe tbody tr th:only-of-type {\n",
       "        vertical-align: middle;\n",
       "    }\n",
       "\n",
       "    .dataframe tbody tr th {\n",
       "        vertical-align: top;\n",
       "    }\n",
       "\n",
       "    .dataframe thead th {\n",
       "        text-align: right;\n",
       "    }\n",
       "</style>\n",
       "<table border=\"1\" class=\"dataframe\">\n",
       "  <thead>\n",
       "    <tr style=\"text-align: right;\">\n",
       "      <th></th>\n",
       "      <th>distance</th>\n",
       "      <th>err_distance</th>\n",
       "      <th>time</th>\n",
       "      <th>err_time</th>\n",
       "    </tr>\n",
       "  </thead>\n",
       "  <tbody>\n",
       "    <tr>\n",
       "      <th>0</th>\n",
       "      <td>0</td>\n",
       "      <td>0.02</td>\n",
       "      <td>0.000000</td>\n",
       "      <td>1.004810</td>\n",
       "    </tr>\n",
       "    <tr>\n",
       "      <th>1</th>\n",
       "      <td>10</td>\n",
       "      <td>0.02</td>\n",
       "      <td>0.923422</td>\n",
       "      <td>0.637569</td>\n",
       "    </tr>\n",
       "    <tr>\n",
       "      <th>2</th>\n",
       "      <td>20</td>\n",
       "      <td>0.02</td>\n",
       "      <td>2.178145</td>\n",
       "      <td>0.382366</td>\n",
       "    </tr>\n",
       "    <tr>\n",
       "      <th>3</th>\n",
       "      <td>30</td>\n",
       "      <td>0.02</td>\n",
       "      <td>2.461897</td>\n",
       "      <td>0.911785</td>\n",
       "    </tr>\n",
       "    <tr>\n",
       "      <th>4</th>\n",
       "      <td>40</td>\n",
       "      <td>0.02</td>\n",
       "      <td>3.387051</td>\n",
       "      <td>0.198510</td>\n",
       "    </tr>\n",
       "    <tr>\n",
       "      <th>5</th>\n",
       "      <td>50</td>\n",
       "      <td>0.02</td>\n",
       "      <td>5.263879</td>\n",
       "      <td>1.152222</td>\n",
       "    </tr>\n",
       "    <tr>\n",
       "      <th>6</th>\n",
       "      <td>60</td>\n",
       "      <td>0.02</td>\n",
       "      <td>6.042705</td>\n",
       "      <td>0.161827</td>\n",
       "    </tr>\n",
       "    <tr>\n",
       "      <th>7</th>\n",
       "      <td>70</td>\n",
       "      <td>0.02</td>\n",
       "      <td>7.939192</td>\n",
       "      <td>0.732011</td>\n",
       "    </tr>\n",
       "    <tr>\n",
       "      <th>8</th>\n",
       "      <td>80</td>\n",
       "      <td>0.02</td>\n",
       "      <td>8.221779</td>\n",
       "      <td>1.267329</td>\n",
       "    </tr>\n",
       "    <tr>\n",
       "      <th>9</th>\n",
       "      <td>90</td>\n",
       "      <td>0.02</td>\n",
       "      <td>8.578128</td>\n",
       "      <td>0.590908</td>\n",
       "    </tr>\n",
       "    <tr>\n",
       "      <th>10</th>\n",
       "      <td>100</td>\n",
       "      <td>0.02</td>\n",
       "      <td>9.562874</td>\n",
       "      <td>1.022337</td>\n",
       "    </tr>\n",
       "  </tbody>\n",
       "</table>\n",
       "</div>"
      ],
      "text/plain": [
       "    distance  err_distance      time  err_time\n",
       "0          0          0.02  0.000000  1.004810\n",
       "1         10          0.02  0.923422  0.637569\n",
       "2         20          0.02  2.178145  0.382366\n",
       "3         30          0.02  2.461897  0.911785\n",
       "4         40          0.02  3.387051  0.198510\n",
       "5         50          0.02  5.263879  1.152222\n",
       "6         60          0.02  6.042705  0.161827\n",
       "7         70          0.02  7.939192  0.732011\n",
       "8         80          0.02  8.221779  1.267329\n",
       "9         90          0.02  8.578128  0.590908\n",
       "10       100          0.02  9.562874  1.022337"
      ]
     },
     "execution_count": 5,
     "metadata": {},
     "output_type": "execute_result"
    }
   ],
   "source": [
    "data"
   ]
  },
  {
   "cell_type": "markdown",
   "metadata": {},
   "source": [
    "# Exercise: Tidying your data\n",
    "\n",
    "In the example above, I missed out the units on my column names. Not particularly helpful!\n",
    "\n",
    "Change the code to give the columns sensible names that include the units."
   ]
  },
  {
   "cell_type": "code",
   "execution_count": 6,
   "metadata": {},
   "outputs": [],
   "source": [
    "## Enter your code here\n",
    "## ...\n",
    "## ...\n",
    "\n"
   ]
  },
  {
   "cell_type": "markdown",
   "metadata": {},
   "source": [
    "# Making a plot with `matplotlib`"
   ]
  },
  {
   "cell_type": "markdown",
   "metadata": {},
   "source": [
    "First we will make a quick plot to see what our data looks like. \n",
    "\n",
    "### Important: \n",
    "You will need to change the data.distance and data.time column names in the cell below to be the same as you set them in the exercise above."
   ]
  },
  {
   "cell_type": "code",
   "execution_count": 7,
   "metadata": {},
   "outputs": [
    {
     "data": {
      "text/plain": [
       "[<matplotlib.lines.Line2D at 0x7fe020ad4400>]"
      ]
     },
     "execution_count": 7,
     "metadata": {},
     "output_type": "execute_result"
    },
    {
     "data": {
      "image/png": "[encoded data removed]",
      "text/plain": [
       "<Figure size 432x288 with 1 Axes>"
      ]
     },
     "metadata": {
      "image/png": {
       "height": 251,
       "width": 369
      },
      "needs_background": "light"
     },
     "output_type": "display_data"
    }
   ],
   "source": [
    "plt.plot(data.distance, data.time)"
   ]
  },
  {
   "cell_type": "markdown",
   "metadata": {},
   "source": [
    "## What makes a good scientific plot?\n",
    "\n",
    "Any plot you make should be clear and informative. There are several things that you **always** need on a plot of your results:\n",
    "* Error bars\n",
    "* Axis labels\n",
    "* Units\n",
    "\n",
    "The code in the next cell gives us exactly that! See the [quick plot](https://vickyscowcroft.github.io/teaching_dev/04_quick_plot.html) page for details of what everything means. Again, remember you need to change the column names if you renamed them earlier."
   ]
  },
  {
   "cell_type": "code",
   "execution_count": 8,
   "metadata": {},
   "outputs": [
    {
     "data": {
      "image/png": "[encoded data removed]",
      "text/plain": [
       "<Figure size 720x432 with 1 Axes>"
      ]
     },
     "metadata": {
      "image/png": {
       "height": 367,
       "width": 602
      },
      "needs_background": "light"
     },
     "output_type": "display_data"
    }
   ],
   "source": [
    "fig = plt.figure(figsize=(10,6))\n",
    "ax = fig.add_subplot(1,1,1)\n",
    "ax.errorbar(data.distance,           \n",
    "             data.time,              \n",
    "             xerr=data.err_distance, \n",
    "             yerr=data.err_time,     \n",
    "             marker='o',             \n",
    "             markersize = 7,\n",
    "             markerfacecolor = 'black',\n",
    "             color='black',          \n",
    "             linestyle='none',       \n",
    "             capsize=6,              \n",
    "             )\n",
    "\n",
    "ax.set_xlabel('Distance run / m')\n",
    "ax.set_ylabel('Time / s')\n",
    "\n",
    "ax.tick_params(direction='in',      # I like 'in', could be 'out' or both 'inout'\n",
    "                length=7,            # A reasonable length\n",
    "               )\n",
    "plt.rcParams.update({'font.size':15})   # A decent font size so the text is readible. \n",
    "                                        # You may have to play with the aspect ration aobe and this to get a nice \n",
    "                                        # looking figure in your report.\n",
    "\n",
    "\n",
    "plt.show()"
   ]
  },
  {
   "cell_type": "markdown",
   "metadata": {},
   "source": [
    "## Exercise: Customise the plot\n",
    "The plot above is informative, but it's not the prettiest.\n",
    "\n",
    "Copy the code in the cell above to the empty cell below. Edit the parameters to change the following:\n",
    "\n",
    "* Change the colour of the points\n",
    "* Change the point (`marker`) shape and size\n",
    "\n",
    "Information about how to change the colour and shape of the markers can be found [here](https://matplotlib.org/api/_as_gen/matplotlib.pyplot.plot.html#matplotlib.pyplot.plot)"
   ]
  },
  {
   "cell_type": "code",
   "execution_count": 9,
   "metadata": {},
   "outputs": [],
   "source": [
    "## Enter your code here\n",
    "## ...\n",
    "## ...\n",
    "\n"
   ]
  },
  {
   "cell_type": "markdown",
   "metadata": {},
   "source": [
    "## Saving the plot to a file\n",
    "\n",
    "In order to use your plot in your lab report, you need to save it to a file using `savefig`. You just need to give `savefig` the output file name and the resolution you want."
   ]
  },
  {
   "cell_type": "code",
   "execution_count": 10,
   "metadata": {},
   "outputs": [],
   "source": [
    "fig.savefig('Basic.png', dpi=300) "
   ]
  },
  {
   "cell_type": "markdown",
   "metadata": {},
   "source": [
    "# Adding a best fit line\n"
   ]
  },
  {
   "cell_type": "markdown",
   "metadata": {},
   "source": [
    "The final thing to do is to add a line of best fit to our plot. We can get a least-squares fit to our data using `curve_fit`.\n",
    "\n",
    "First we set up the function that we want to fit to our data:\n",
    "```python \n",
    "def line(x, slope, intercept):          \n",
    "    return slope*x + intercept\n",
    "```\n",
    "Here we've defined our `line` function to fit an equation of the form\n",
    "$$ y = m x + c $$\n",
    "to the data, where $m$ is the slope and $c$ is the intercept.\n",
    "Next we pass this function and the x and y data to `curve_fit`:\n",
    "```python\n",
    "popt, pcov = curve_fit(line,data.distance,data.time)\n",
    "```\n",
    "This will find the best fit line to our `distance` and `time` data and send the parameters to the `popt` and `pcov` variables.\n",
    "\n",
    "See the [adding a best fit line](https://vickyscowcroft.github.io/teaching_dev/05_line_fit.html) for further details about how all this works."
   ]
  },
  {
   "cell_type": "code",
   "execution_count": 11,
   "metadata": {},
   "outputs": [],
   "source": [
    "def line(x, slope, intercept):          # Set up the linear fitting - don't ammend\n",
    "    return slope*x + intercept          # More set up, leave alone.\n",
    "\n",
    "# Next few line, fits a line to the (x data, and y data) no need to change things.\n",
    "popt, pcov = curve_fit(line,data.distance,data.time)\n",
    "slope = popt[0]\n",
    "intercept = popt[1]\n",
    "err_slope = np.sqrt(float(pcov[0][0]))\n",
    "err_intercept = np.sqrt(float(pcov[1][1]))"
   ]
  },
  {
   "cell_type": "markdown",
   "metadata": {},
   "source": [
    "We can print the parameters and their uncertainties to the screen using `print`"
   ]
  },
  {
   "cell_type": "code",
   "execution_count": 12,
   "metadata": {},
   "outputs": [
    {
     "name": "stdout",
     "output_type": "stream",
     "text": [
      "Slope: 0.100 +- 0.005\n",
      "Intercept: -0.048 +- 0.270\n"
     ]
    }
   ],
   "source": [
    "print('Slope: {0:.3f} +- {1:.3f}'.format(slope, err_slope))\n",
    "print('Intercept: {0:.3f} +- {1:.3f}'.format(intercept, err_intercept))"
   ]
  },
  {
   "cell_type": "markdown",
   "metadata": {},
   "source": [
    "## Final plot\n",
    "\n",
    "Now we can make a nice plot that includes the best fit line, its parameters, and a legend. See the [adding a best fit line](https://vickyscowcroft.github.io/teaching_dev/05_line_fit.html) section for full details."
   ]
  },
  {
   "cell_type": "code",
   "execution_count": 13,
   "metadata": {},
   "outputs": [
    {
     "data": {
      "image/png": "[encoded data removed]",
      "text/plain": [
       "<Figure size 720x432 with 1 Axes>"
      ]
     },
     "metadata": {
      "image/png": {
       "height": 377,
       "width": 613
      },
      "needs_background": "light"
     },
     "output_type": "display_data"
    }
   ],
   "source": [
    "fig = plt.figure(figsize=(10,6))\n",
    "ax = fig.add_subplot(1,1,1)\n",
    "ax.errorbar(data.distance,           \n",
    "             data.time,              \n",
    "             xerr=data.err_distance, \n",
    "             yerr=data.err_time,     \n",
    "             marker='o',             \n",
    "             markersize = 7,        \n",
    "             color='black',         \n",
    "             ecolor='black',        \n",
    "             markerfacecolor='black',\n",
    "             linestyle='none',       \n",
    "             capsize=6,  \n",
    "             label = \"Bolt data\"\n",
    "             )\n",
    "\n",
    "ax.set_xlabel('Distance run / m')\n",
    "ax.set_ylabel('Time / s')\n",
    "\n",
    "ax.tick_params(direction='in',      \n",
    "                length=7,           \n",
    "               )\n",
    "ax.plot(data.distance, data.distance*slope+intercept, \n",
    "         linestyle='--',\n",
    "         color='black',\n",
    "         label='Best fit')\n",
    "\n",
    "handles, labels = ax.get_legend_handles_labels()\n",
    "ax.legend(handles[::-1],labels[::-1],loc=0, numpoints=1)\n",
    "annotation ='$t = {0:.3f} ( \\pm {1:.3f})d {2:+.3f} (\\pm {3:.3f})$'.format(slope, err_slope, intercept, err_intercept)\n",
    "ax.annotate(annotation, xy=(70, 1), xycoords='data', ha='center', bbox=dict(boxstyle=\"round\", fc=\"w\"))\n",
    "plt.show()"
   ]
  },
  {
   "cell_type": "markdown",
   "metadata": {},
   "source": [
    "## Exercise: Make your final plot\n",
    "\n",
    "Copy and paste the code to the empty cell below. Edit it so that the best fit line is a different colour and the legend is in a different place. Information about how to change the legend can be found [here]"
   ]
  },
  {
   "cell_type": "code",
   "execution_count": 14,
   "metadata": {},
   "outputs": [],
   "source": [
    "## Enter your code here\n",
    "## ...\n",
    "## ...\n"
   ]
  },
  {
   "cell_type": "markdown",
   "metadata": {},
   "source": [
    "## Saving the plot to a file\n",
    "\n",
    "The last thing we need to do is save our plot. **Be careful!** You won't get a warning if you're going to overwrite an existing file, so make sure to give your figure a new name. "
   ]
  },
  {
   "cell_type": "code",
   "execution_count": 15,
   "metadata": {},
   "outputs": [],
   "source": [
    "fig.savefig('fancy.png', dpi=300) "
   ]
  },
  {
   "cell_type": "code",
   "execution_count": null,
   "metadata": {},
   "outputs": [],
   "source": []
  }
 ],
 "metadata": {
  "kernelspec": {
   "display_name": "Python 3",
   "language": "python",
   "name": "python3"
  },
  "language_info": {
   "codemirror_mode": {
    "name": "ipython",
    "version": 3
   },
   "file_extension": ".py",
   "mimetype": "text/x-python",
   "name": "python",
   "nbconvert_exporter": "python",
   "pygments_lexer": "ipython3",
   "version": "3.7.3"
  }
 },
 "nbformat": 4,
 "nbformat_minor": 2
}
