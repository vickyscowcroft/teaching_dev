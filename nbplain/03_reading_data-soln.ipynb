{
 "cells": [
  {
   "cell_type": "code",
   "execution_count": 1,
   "metadata": {},
   "outputs": [],
   "source": [
    "import pandas as pd "
   ]
  },
  {
   "cell_type": "markdown",
   "metadata": {},
   "source": [
    "## Solution: Tidying your data\n",
    "\n",
    "## Re-reading the data\n",
    "\n",
    "One way to approach this is to re-read the data into the dataframe, and assign different names to the columns. Here I've added `_m` and `_s` to the names to indicate the units.\n"
   ]
  },
  {
   "cell_type": "code",
   "execution_count": 2,
   "metadata": {},
   "outputs": [],
   "source": [
    "data = pd.read_excel('BoltData.xlsx', \n",
    "                        names=('distance_m', 'err_distance_m', 'time_s', 'err_time_s'), \n",
    "                        usecols=(0,1,2,3), \n",
    "                        nrows=11)\n"
   ]
  },
  {
   "cell_type": "code",
   "execution_count": 3,
   "metadata": {},
   "outputs": [
    {
     "data": {
      "text/html": [
       "<div>\n",
       "<style scoped>\n",
       "    .dataframe tbody tr th:only-of-type {\n",
       "        vertical-align: middle;\n",
       "    }\n",
       "\n",
       "    .dataframe tbody tr th {\n",
       "        vertical-align: top;\n",
       "    }\n",
       "\n",
       "    .dataframe thead th {\n",
       "        text-align: right;\n",
       "    }\n",
       "</style>\n",
       "<table border=\"1\" class=\"dataframe\">\n",
       "  <thead>\n",
       "    <tr style=\"text-align: right;\">\n",
       "      <th></th>\n",
       "      <th>distance_m</th>\n",
       "      <th>err_distance_m</th>\n",
       "      <th>time_s</th>\n",
       "      <th>err_time_s</th>\n",
       "    </tr>\n",
       "  </thead>\n",
       "  <tbody>\n",
       "    <tr>\n",
       "      <th>0</th>\n",
       "      <td>0</td>\n",
       "      <td>0.02</td>\n",
       "      <td>0.000000</td>\n",
       "      <td>1.004810</td>\n",
       "    </tr>\n",
       "    <tr>\n",
       "      <th>1</th>\n",
       "      <td>10</td>\n",
       "      <td>0.02</td>\n",
       "      <td>0.923422</td>\n",
       "      <td>0.637569</td>\n",
       "    </tr>\n",
       "    <tr>\n",
       "      <th>2</th>\n",
       "      <td>20</td>\n",
       "      <td>0.02</td>\n",
       "      <td>2.178145</td>\n",
       "      <td>0.382366</td>\n",
       "    </tr>\n",
       "    <tr>\n",
       "      <th>3</th>\n",
       "      <td>30</td>\n",
       "      <td>0.02</td>\n",
       "      <td>2.461897</td>\n",
       "      <td>0.911785</td>\n",
       "    </tr>\n",
       "    <tr>\n",
       "      <th>4</th>\n",
       "      <td>40</td>\n",
       "      <td>0.02</td>\n",
       "      <td>3.387051</td>\n",
       "      <td>0.198510</td>\n",
       "    </tr>\n",
       "    <tr>\n",
       "      <th>5</th>\n",
       "      <td>50</td>\n",
       "      <td>0.02</td>\n",
       "      <td>5.263879</td>\n",
       "      <td>1.152222</td>\n",
       "    </tr>\n",
       "    <tr>\n",
       "      <th>6</th>\n",
       "      <td>60</td>\n",
       "      <td>0.02</td>\n",
       "      <td>6.042705</td>\n",
       "      <td>0.161827</td>\n",
       "    </tr>\n",
       "    <tr>\n",
       "      <th>7</th>\n",
       "      <td>70</td>\n",
       "      <td>0.02</td>\n",
       "      <td>7.939192</td>\n",
       "      <td>0.732011</td>\n",
       "    </tr>\n",
       "    <tr>\n",
       "      <th>8</th>\n",
       "      <td>80</td>\n",
       "      <td>0.02</td>\n",
       "      <td>8.221779</td>\n",
       "      <td>1.267329</td>\n",
       "    </tr>\n",
       "    <tr>\n",
       "      <th>9</th>\n",
       "      <td>90</td>\n",
       "      <td>0.02</td>\n",
       "      <td>8.578128</td>\n",
       "      <td>0.590908</td>\n",
       "    </tr>\n",
       "    <tr>\n",
       "      <th>10</th>\n",
       "      <td>100</td>\n",
       "      <td>0.02</td>\n",
       "      <td>9.562874</td>\n",
       "      <td>1.022337</td>\n",
       "    </tr>\n",
       "  </tbody>\n",
       "</table>\n",
       "</div>"
      ],
      "text/plain": [
       "    distance_m  err_distance_m    time_s  err_time_s\n",
       "0            0            0.02  0.000000    1.004810\n",
       "1           10            0.02  0.923422    0.637569\n",
       "2           20            0.02  2.178145    0.382366\n",
       "3           30            0.02  2.461897    0.911785\n",
       "4           40            0.02  3.387051    0.198510\n",
       "5           50            0.02  5.263879    1.152222\n",
       "6           60            0.02  6.042705    0.161827\n",
       "7           70            0.02  7.939192    0.732011\n",
       "8           80            0.02  8.221779    1.267329\n",
       "9           90            0.02  8.578128    0.590908\n",
       "10         100            0.02  9.562874    1.022337"
      ]
     },
     "execution_count": 3,
     "metadata": {},
     "output_type": "execute_result"
    }
   ],
   "source": [
    "data"
   ]
  },
  {
   "cell_type": "markdown",
   "metadata": {},
   "source": [
    "## Reassigning column names\n",
    "\n",
    "If you don't want to re-read the data, you can change the column names using `data.columns`.\n",
    "\n",
    "We can see the current column names using `data.columns`:"
   ]
  },
  {
   "cell_type": "code",
   "execution_count": 4,
   "metadata": {},
   "outputs": [
    {
     "data": {
      "text/plain": [
       "Index(['distance_m', 'err_distance_m', 'time_s', 'err_time_s'], dtype='object')"
      ]
     },
     "execution_count": 4,
     "metadata": {},
     "output_type": "execute_result"
    }
   ],
   "source": [
    "data.columns"
   ]
  },
  {
   "cell_type": "markdown",
   "metadata": {},
   "source": [
    "To change the names you can use the same command, but assigning a value to the columns as follows:"
   ]
  },
  {
   "cell_type": "code",
   "execution_count": 5,
   "metadata": {},
   "outputs": [],
   "source": [
    "data.columns = ['Distance_metres', 'Distance_Unc_metres', 'Time_sec', 'Time_Unc_sec']"
   ]
  },
  {
   "cell_type": "markdown",
   "metadata": {},
   "source": [
    "Looking at the dataframe we can see that the column names have changed"
   ]
  },
  {
   "cell_type": "code",
   "execution_count": 6,
   "metadata": {},
   "outputs": [
    {
     "data": {
      "text/html": [
       "<div>\n",
       "<style scoped>\n",
       "    .dataframe tbody tr th:only-of-type {\n",
       "        vertical-align: middle;\n",
       "    }\n",
       "\n",
       "    .dataframe tbody tr th {\n",
       "        vertical-align: top;\n",
       "    }\n",
       "\n",
       "    .dataframe thead th {\n",
       "        text-align: right;\n",
       "    }\n",
       "</style>\n",
       "<table border=\"1\" class=\"dataframe\">\n",
       "  <thead>\n",
       "    <tr style=\"text-align: right;\">\n",
       "      <th></th>\n",
       "      <th>Distance_metres</th>\n",
       "      <th>Distance_Unc_metres</th>\n",
       "      <th>Time_sec</th>\n",
       "      <th>Time_Unc_sec</th>\n",
       "    </tr>\n",
       "  </thead>\n",
       "  <tbody>\n",
       "    <tr>\n",
       "      <th>0</th>\n",
       "      <td>0</td>\n",
       "      <td>0.02</td>\n",
       "      <td>0.000000</td>\n",
       "      <td>1.004810</td>\n",
       "    </tr>\n",
       "    <tr>\n",
       "      <th>1</th>\n",
       "      <td>10</td>\n",
       "      <td>0.02</td>\n",
       "      <td>0.923422</td>\n",
       "      <td>0.637569</td>\n",
       "    </tr>\n",
       "    <tr>\n",
       "      <th>2</th>\n",
       "      <td>20</td>\n",
       "      <td>0.02</td>\n",
       "      <td>2.178145</td>\n",
       "      <td>0.382366</td>\n",
       "    </tr>\n",
       "    <tr>\n",
       "      <th>3</th>\n",
       "      <td>30</td>\n",
       "      <td>0.02</td>\n",
       "      <td>2.461897</td>\n",
       "      <td>0.911785</td>\n",
       "    </tr>\n",
       "    <tr>\n",
       "      <th>4</th>\n",
       "      <td>40</td>\n",
       "      <td>0.02</td>\n",
       "      <td>3.387051</td>\n",
       "      <td>0.198510</td>\n",
       "    </tr>\n",
       "    <tr>\n",
       "      <th>5</th>\n",
       "      <td>50</td>\n",
       "      <td>0.02</td>\n",
       "      <td>5.263879</td>\n",
       "      <td>1.152222</td>\n",
       "    </tr>\n",
       "    <tr>\n",
       "      <th>6</th>\n",
       "      <td>60</td>\n",
       "      <td>0.02</td>\n",
       "      <td>6.042705</td>\n",
       "      <td>0.161827</td>\n",
       "    </tr>\n",
       "    <tr>\n",
       "      <th>7</th>\n",
       "      <td>70</td>\n",
       "      <td>0.02</td>\n",
       "      <td>7.939192</td>\n",
       "      <td>0.732011</td>\n",
       "    </tr>\n",
       "    <tr>\n",
       "      <th>8</th>\n",
       "      <td>80</td>\n",
       "      <td>0.02</td>\n",
       "      <td>8.221779</td>\n",
       "      <td>1.267329</td>\n",
       "    </tr>\n",
       "    <tr>\n",
       "      <th>9</th>\n",
       "      <td>90</td>\n",
       "      <td>0.02</td>\n",
       "      <td>8.578128</td>\n",
       "      <td>0.590908</td>\n",
       "    </tr>\n",
       "    <tr>\n",
       "      <th>10</th>\n",
       "      <td>100</td>\n",
       "      <td>0.02</td>\n",
       "      <td>9.562874</td>\n",
       "      <td>1.022337</td>\n",
       "    </tr>\n",
       "  </tbody>\n",
       "</table>\n",
       "</div>"
      ],
      "text/plain": [
       "    Distance_metres  Distance_Unc_metres  Time_sec  Time_Unc_sec\n",
       "0                 0                 0.02  0.000000      1.004810\n",
       "1                10                 0.02  0.923422      0.637569\n",
       "2                20                 0.02  2.178145      0.382366\n",
       "3                30                 0.02  2.461897      0.911785\n",
       "4                40                 0.02  3.387051      0.198510\n",
       "5                50                 0.02  5.263879      1.152222\n",
       "6                60                 0.02  6.042705      0.161827\n",
       "7                70                 0.02  7.939192      0.732011\n",
       "8                80                 0.02  8.221779      1.267329\n",
       "9                90                 0.02  8.578128      0.590908\n",
       "10              100                 0.02  9.562874      1.022337"
      ]
     },
     "execution_count": 6,
     "metadata": {},
     "output_type": "execute_result"
    }
   ],
   "source": [
    "data"
   ]
  },
  {
   "cell_type": "code",
   "execution_count": null,
   "metadata": {},
   "outputs": [],
   "source": []
  }
 ],
 "metadata": {
  "celltoolbar": "Tags",
  "kernelspec": {
   "display_name": "Python 3",
   "language": "python",
   "name": "python3"
  },
  "language_info": {
   "codemirror_mode": {
    "name": "ipython",
    "version": 3
   },
   "file_extension": ".py",
   "mimetype": "text/x-python",
   "name": "python",
   "nbconvert_exporter": "python",
   "pygments_lexer": "ipython3",
   "version": "3.7.3"
  }
 },
 "nbformat": 4,
 "nbformat_minor": 2
}
