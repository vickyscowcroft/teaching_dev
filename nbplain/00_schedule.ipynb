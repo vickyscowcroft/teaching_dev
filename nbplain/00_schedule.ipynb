{
 "cells": [
  {
   "cell_type": "markdown",
   "metadata": {
    "slideshow": {
     "slide_type": "slide"
    }
   },
   "source": [
    "# Plotting with Python in the [WL] labs\n",
    "\n",
    "Welcome to Sloan's python notebook to produce a reasonably nice graph for the \\[WL\\] labs. We will read in data, plot it, fit a linear function and then output the graph as a graphics file, here a pdf file.\n",
    "\n",
    "**Objectives**\n",
    "- Learn about Jupyter notebooks\n",
    "- Read in data with `pandas`\n",
    "- Plot it with `matplotlib`\n",
    "- Fit a linear function with `scipy`\n",
    "- Save the graph as a pdf."
   ]
  },
  {
   "cell_type": "markdown",
   "metadata": {
    "slideshow": {
     "slide_type": "slide"
    }
   },
   "source": [
    "## Prerequisites:\n",
    "\n",
    "To complete this lesson you should be able to do all the things in this list:\n",
    "* Turn on the computer\n",
    "* Start Jupyter\n",
    "* type things?"
   ]
  },
  {
   "cell_type": "markdown",
   "metadata": {
    "slideshow": {
     "slide_type": "slide"
    }
   },
   "source": [
    "## Schedule:\n",
    "\n",
    "| Time | Episode | Description |\n",
    "|---|---|---|\n",
    "| 0:00 | [Introduction](01_intro_jupyter.ipynb) | Introduction to Jupyter notebooks|\n",
    "| 0:05 | [Setup](02_setup.ipynb) | Getting your notebook set up |\n",
    "| 0:10 | [Reading in data](03_reading_data.ipynb) | Reading in data with `pandas` |\n",
    "| 0:20 | [Plotting the data](04_quick_plot.ipynb) | Making a plot of our data with `matplotlib` |\n",
    "\n"
   ]
  },
  {
   "cell_type": "markdown",
   "metadata": {
    "slideshow": {
     "slide_type": "slide"
    }
   },
   "source": [
    "## Setup:\n",
    "\n",
    "If you're running this on one of the University computers, all the packages you need should already be installed. \n",
    "\n",
    "If you're running this on your own computer, you will need:\n",
    "* `numpy`\n",
    "* `matplotlib`\n",
    "* `pandas`\n",
    "* `scipy`\n",
    "\n",
    "The following extensions are also helpful:\n",
    "* codefolding\n",
    "* python-markdown\n",
    "Extensions require the `jupyter-contrib-nbextensions` package. Installation instructions can be found [here](https://jupyter-contrib-nbextensions.readthedocs.io/en/latest/install.html)"
   ]
  },
  {
   "cell_type": "code",
   "execution_count": null,
   "metadata": {},
   "outputs": [],
   "source": []
  }
 ],
 "metadata": {
  "celltoolbar": "Slideshow",
  "kernelspec": {
   "display_name": "Python 3",
   "language": "python",
   "name": "python3"
  },
  "language_info": {
   "codemirror_mode": {
    "name": "ipython",
    "version": 3
   },
   "file_extension": ".py",
   "mimetype": "text/x-python",
   "name": "python",
   "nbconvert_exporter": "python",
   "pygments_lexer": "ipython3",
   "version": "3.7.3"
  }
 },
 "nbformat": 4,
 "nbformat_minor": 2
}
