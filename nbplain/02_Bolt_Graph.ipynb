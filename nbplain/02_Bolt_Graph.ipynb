{
 "cells": [
  {
   "cell_type": "markdown",
   "metadata": {},
   "source": [
    "## Overview: Plotting with Python in the [WL] labs\n",
    "\n",
    "Welcome to Sloan's python notebook to produce a reasonably nice graph for the [WL] labs. We will read in data, plot it, fit a linear function and then output the graph as a graphics file, here a png file."
   ]
  },
  {
   "cell_type": "markdown",
   "metadata": {},
   "source": [
    "## Information:  Jupyter Notebooks\n",
    "You can use jupyter notebooks like a lab book. It's important to write down what you're doing in your experiment and analysis; when you come back to a notebook at a later date with no recollection of what you did before, you'll thank your past self for making such clear notes.\n",
    "To \"run\" a cell, either press the `Run` button at the top, or press `Shift-Enter`."
   ]
  },
  {
   "cell_type": "markdown",
   "metadata": {},
   "source": [
    "## A brief note about markdown\n",
    "Jupyter notebooks (i.e. the file you're working with now) allow for different types of 'cells'. Markdown cells (like this one) are great for documenting what you're doing. If you've ever posted on an internet forum, you've probably already used markdown, although you may not have realised it! \n",
    "\n",
    "You can make headings of different sizes using \\# at the start of a line.\n",
    "# big (\\#)\n",
    "## medium (\\##)\n",
    "### small (\\###)\n",
    "\n",
    "You can make text *italic* using one \\* at each end of the text. **Bold** uses two \\*\\*.\n",
    "\n",
    "Making lists is easy too!\n",
    "\n",
    "* bulleted lists \n",
    "* are made by putting\n",
    "* \\* (asterix) at the start of a line\n",
    "- or maybe \n",
    "- a dash (\\-)\n",
    "- you don't even need to be consistent.\n",
    "\n",
    "\n",
    "1. Numbered lists\n",
    "2. Just by numbering things\n",
    "3. i.e. 1., 2., at the start of a line\n",
    "7. and it doesn't matter\n",
    "4. if your numbers are in the right order\n",
    "\n",
    "(The list above was numbered 1, 2, 3, 7, 4)\n",
    "\n",
    "A nice markdown cheatsheet can be found [here](https://en.support.wordpress.com/markdown-quick-reference/, \"markdown cheatsheet\") \n",
    "\n",
    "You can look at the raw text that made this cell by double-clicking the cell."
   ]
  },
  {
   "cell_type": "markdown",
   "metadata": {},
   "source": [
    "# Plotting and fitting\n",
    "\n",
    "Now we've been introduced to jupyter notebooks, we'll get onto some python. \n",
    "\n",
    "As well as markdown, jupyter notebook cells can also contain code.\n",
    "\n",
    "It's very helpful to split your code up into cells rather than put it all in one big one. This way, if something doesn't work, it's easy(ier) to locate the problem."
   ]
  },
  {
   "cell_type": "markdown",
   "metadata": {},
   "source": [
    "## Setup: Importing python packages\n",
    "\n",
    "Python routines exist in packages. The first thing to do is to load the packages you need for your analysis using \n",
    "```python\n",
    "import modulename\n",
    "``` \n",
    "In the next cell we import the packages needed to plot a graph and fit a line to our data. \n",
    "You'll notice that some packages are loaded slightly differently, e.g.\n",
    "```python\n",
    "import matplotlib.pyplot as plt\n",
    "``` \n",
    "Here we're loading the `pyplot` sub-package of `matplotlib`. So we don't need to type `matplotlib.pyplot` every time we want to use it, we load it as `plt`."
   ]
  },
  {
   "cell_type": "code",
   "execution_count": 1,
   "metadata": {},
   "outputs": [],
   "source": [
    "## Some code that imports all the various sub-routines that we will need. Leave alone.\n",
    "\n",
    "import matplotlib.pyplot as plt ### plotting things\n",
    "import numpy as np ## one of python's main maths packages\n",
    "import pandas as pd ## for reading in our data\n",
    "from scipy.optimize import curve_fit ## for fitting a line to our data\n",
    "\n",
    "import matplotlib.ticker as ticker ## this one lets us change some parameters in our plots.\n",
    "### makes our plots show up 'inline'\n",
    "%matplotlib inline \n",
    "## high resolution plots for retina displays\n",
    "\n",
    "%config InlineBackend.figure_format = 'retina' "
   ]
  },
  {
   "cell_type": "markdown",
   "metadata": {},
   "source": [
    "The last two lines of the cell above, starting with `%` are called **magic commands**. You don't need many of them, but the `inline` and `retina` ones are pretty handy. A guide to magic commands can be found [here](https://ipython.readthedocs.io/en/stable/interactive/magics.html, \"magic commands\")"
   ]
  },
  {
   "cell_type": "markdown",
   "metadata": {},
   "source": [
    "# Reading in our data with pandas\n",
    "\n",
    "Unfortunately, this does not mean finding a panda to read our excel files.\n",
    "\n",
    "Pandas is the **Python Data Analysis Library**. It can read pretty much anything you throw at it. If you've been putting your lab data into an excel spreadsheet, pandas can read it in so you can analyse and plot it. You can find out more about what you can do with pandas [here](https://pandas.pydata.org/,\"pandas\")."
   ]
  },
  {
   "cell_type": "markdown",
   "metadata": {},
   "source": [
    "Our first step is to read in our excel spreadsheet to a pandas **dataframe**. Pandas has different functions for different file types. For excel, we need `pd.read_excel`. Our dataframe will be called `data`, but it's best to use a more descriptive name for your variables."
   ]
  },
  {
   "cell_type": "code",
   "execution_count": 2,
   "metadata": {},
   "outputs": [],
   "source": [
    "### read in ALL the excel file and save its data to variable \"data\"\n",
    "\n",
    "data = pd.read_excel('../data/BoltData.xlsx')"
   ]
  },
  {
   "cell_type": "markdown",
   "metadata": {},
   "source": [
    "It's easy to look at what's in our dataframe. Just type the name of it and your dataframe is printed to the screen."
   ]
  },
  {
   "cell_type": "code",
   "execution_count": 3,
   "metadata": {},
   "outputs": [
    {
     "data": {
      "text/html": [
       "<div>\n",
       "<table border=\"1\" class=\"dataframe\">\n",
       "  <thead>\n",
       "    <tr style=\"text-align: right;\">\n",
       "      <th></th>\n",
       "      <th>distance/m</th>\n",
       "      <th>Distnace uncertinty / m</th>\n",
       "      <th>time/s</th>\n",
       "      <th>Time measurment uncertinty / s</th>\n",
       "    </tr>\n",
       "  </thead>\n",
       "  <tbody>\n",
       "    <tr>\n",
       "      <th>0</th>\n",
       "      <td>0</td>\n",
       "      <td>0.02</td>\n",
       "      <td>0.000000</td>\n",
       "      <td>1.004810</td>\n",
       "    </tr>\n",
       "    <tr>\n",
       "      <th>1</th>\n",
       "      <td>10</td>\n",
       "      <td>0.02</td>\n",
       "      <td>0.923422</td>\n",
       "      <td>0.637569</td>\n",
       "    </tr>\n",
       "    <tr>\n",
       "      <th>2</th>\n",
       "      <td>20</td>\n",
       "      <td>0.02</td>\n",
       "      <td>2.178145</td>\n",
       "      <td>0.382366</td>\n",
       "    </tr>\n",
       "    <tr>\n",
       "      <th>3</th>\n",
       "      <td>30</td>\n",
       "      <td>0.02</td>\n",
       "      <td>2.461897</td>\n",
       "      <td>0.911785</td>\n",
       "    </tr>\n",
       "    <tr>\n",
       "      <th>4</th>\n",
       "      <td>40</td>\n",
       "      <td>0.02</td>\n",
       "      <td>3.387051</td>\n",
       "      <td>0.198510</td>\n",
       "    </tr>\n",
       "    <tr>\n",
       "      <th>5</th>\n",
       "      <td>50</td>\n",
       "      <td>0.02</td>\n",
       "      <td>5.263879</td>\n",
       "      <td>1.152222</td>\n",
       "    </tr>\n",
       "    <tr>\n",
       "      <th>6</th>\n",
       "      <td>60</td>\n",
       "      <td>0.02</td>\n",
       "      <td>6.042705</td>\n",
       "      <td>0.161827</td>\n",
       "    </tr>\n",
       "    <tr>\n",
       "      <th>7</th>\n",
       "      <td>70</td>\n",
       "      <td>0.02</td>\n",
       "      <td>7.939192</td>\n",
       "      <td>0.732011</td>\n",
       "    </tr>\n",
       "    <tr>\n",
       "      <th>8</th>\n",
       "      <td>80</td>\n",
       "      <td>0.02</td>\n",
       "      <td>8.221779</td>\n",
       "      <td>1.267329</td>\n",
       "    </tr>\n",
       "    <tr>\n",
       "      <th>9</th>\n",
       "      <td>90</td>\n",
       "      <td>0.02</td>\n",
       "      <td>8.578128</td>\n",
       "      <td>0.590908</td>\n",
       "    </tr>\n",
       "    <tr>\n",
       "      <th>10</th>\n",
       "      <td>100</td>\n",
       "      <td>0.02</td>\n",
       "      <td>9.562874</td>\n",
       "      <td>1.022337</td>\n",
       "    </tr>\n",
       "    <tr>\n",
       "      <th>11</th>\n",
       "      <td>NaN</td>\n",
       "      <td>NaN</td>\n",
       "      <td>NaN</td>\n",
       "      <td>NaN</td>\n",
       "    </tr>\n",
       "    <tr>\n",
       "      <th>12</th>\n",
       "      <td>NaN</td>\n",
       "      <td>NaN</td>\n",
       "      <td>NaN</td>\n",
       "      <td>NaN</td>\n",
       "    </tr>\n",
       "    <tr>\n",
       "      <th>13</th>\n",
       "      <td></td>\n",
       "      <td></td>\n",
       "      <td>NaN</td>\n",
       "      <td>NaN</td>\n",
       "    </tr>\n",
       "    <tr>\n",
       "      <th>14</th>\n",
       "      <td>NaN</td>\n",
       "      <td>NaN</td>\n",
       "      <td>NaN</td>\n",
       "      <td>NaN</td>\n",
       "    </tr>\n",
       "    <tr>\n",
       "      <th>15</th>\n",
       "      <td>NaN</td>\n",
       "      <td>NaN</td>\n",
       "      <td>NaN</td>\n",
       "      <td>NaN</td>\n",
       "    </tr>\n",
       "    <tr>\n",
       "      <th>16</th>\n",
       "      <td>NaN</td>\n",
       "      <td>NaN</td>\n",
       "      <td>NaN</td>\n",
       "      <td>NaN</td>\n",
       "    </tr>\n",
       "    <tr>\n",
       "      <th>17</th>\n",
       "      <td>NaN</td>\n",
       "      <td>NaN</td>\n",
       "      <td>NaN</td>\n",
       "      <td>NaN</td>\n",
       "    </tr>\n",
       "    <tr>\n",
       "      <th>18</th>\n",
       "      <td>NaN</td>\n",
       "      <td>NaN</td>\n",
       "      <td>NaN</td>\n",
       "      <td>NaN</td>\n",
       "    </tr>\n",
       "    <tr>\n",
       "      <th>19</th>\n",
       "      <td>NaN</td>\n",
       "      <td>NaN</td>\n",
       "      <td>NaN</td>\n",
       "      <td>NaN</td>\n",
       "    </tr>\n",
       "    <tr>\n",
       "      <th>20</th>\n",
       "      <td>NaN</td>\n",
       "      <td>NaN</td>\n",
       "      <td>NaN</td>\n",
       "      <td>NaN</td>\n",
       "    </tr>\n",
       "    <tr>\n",
       "      <th>21</th>\n",
       "      <td>NaN</td>\n",
       "      <td></td>\n",
       "      <td>NaN</td>\n",
       "      <td>NaN</td>\n",
       "    </tr>\n",
       "  </tbody>\n",
       "</table>\n",
       "</div>"
      ],
      "text/plain": [
       "   distance/m Distnace uncertinty / m    time/s  \\\n",
       "0           0                    0.02  0.000000   \n",
       "1          10                    0.02  0.923422   \n",
       "2          20                    0.02  2.178145   \n",
       "3          30                    0.02  2.461897   \n",
       "4          40                    0.02  3.387051   \n",
       "5          50                    0.02  5.263879   \n",
       "6          60                    0.02  6.042705   \n",
       "7          70                    0.02  7.939192   \n",
       "8          80                    0.02  8.221779   \n",
       "9          90                    0.02  8.578128   \n",
       "10        100                    0.02  9.562874   \n",
       "11        NaN                     NaN       NaN   \n",
       "12        NaN                     NaN       NaN   \n",
       "13                                          NaN   \n",
       "14        NaN                     NaN       NaN   \n",
       "15        NaN                     NaN       NaN   \n",
       "16        NaN                     NaN       NaN   \n",
       "17        NaN                     NaN       NaN   \n",
       "18        NaN                     NaN       NaN   \n",
       "19        NaN                     NaN       NaN   \n",
       "20        NaN                     NaN       NaN   \n",
       "21        NaN                               NaN   \n",
       "\n",
       "    Time measurment uncertinty / s  \n",
       "0                         1.004810  \n",
       "1                         0.637569  \n",
       "2                         0.382366  \n",
       "3                         0.911785  \n",
       "4                         0.198510  \n",
       "5                         1.152222  \n",
       "6                         0.161827  \n",
       "7                         0.732011  \n",
       "8                         1.267329  \n",
       "9                         0.590908  \n",
       "10                        1.022337  \n",
       "11                             NaN  \n",
       "12                             NaN  \n",
       "13                             NaN  \n",
       "14                             NaN  \n",
       "15                             NaN  \n",
       "16                             NaN  \n",
       "17                             NaN  \n",
       "18                             NaN  \n",
       "19                             NaN  \n",
       "20                             NaN  \n",
       "21                             NaN  "
      ]
     },
     "execution_count": 3,
     "metadata": {},
     "output_type": "execute_result"
    }
   ],
   "source": [
    "## have a look at the data and print it to the screen.\n",
    "data"
   ]
  },
  {
   "cell_type": "markdown",
   "metadata": {},
   "source": [
    "## Tidying up our data\n",
    "\n",
    "Right now our `data` dataframe looks a bit of a mess. There's loads of missing or `NaN` (not a number) values, and our columns don't have very sensible names. We can re-read the data, specifying what we want to keep and give better names for our columns."
   ]
  },
  {
   "cell_type": "code",
   "execution_count": 4,
   "metadata": {},
   "outputs": [],
   "source": [
    "## Now we can read in only what items we want and give each column a better name.\n",
    "data = pd.read_excel('../data/BoltData.xlsx', \n",
    "                        names=('distance', 'err_distance', 'time', 'err_time'), \n",
    "                        usecols=(0,1,2,3), \n",
    "                        skipfooter=12)"
   ]
  },
  {
   "cell_type": "code",
   "execution_count": 5,
   "metadata": {},
   "outputs": [
    {
     "data": {
      "text/html": [
       "<div>\n",
       "<table border=\"1\" class=\"dataframe\">\n",
       "  <thead>\n",
       "    <tr style=\"text-align: right;\">\n",
       "      <th></th>\n",
       "      <th>distance</th>\n",
       "      <th>err_distance</th>\n",
       "      <th>time</th>\n",
       "      <th>err_time</th>\n",
       "    </tr>\n",
       "  </thead>\n",
       "  <tbody>\n",
       "    <tr>\n",
       "      <th>0</th>\n",
       "      <td>0</td>\n",
       "      <td>0.02</td>\n",
       "      <td>0.000000</td>\n",
       "      <td>1.004810</td>\n",
       "    </tr>\n",
       "    <tr>\n",
       "      <th>1</th>\n",
       "      <td>10</td>\n",
       "      <td>0.02</td>\n",
       "      <td>0.923422</td>\n",
       "      <td>0.637569</td>\n",
       "    </tr>\n",
       "    <tr>\n",
       "      <th>2</th>\n",
       "      <td>20</td>\n",
       "      <td>0.02</td>\n",
       "      <td>2.178145</td>\n",
       "      <td>0.382366</td>\n",
       "    </tr>\n",
       "    <tr>\n",
       "      <th>3</th>\n",
       "      <td>30</td>\n",
       "      <td>0.02</td>\n",
       "      <td>2.461897</td>\n",
       "      <td>0.911785</td>\n",
       "    </tr>\n",
       "    <tr>\n",
       "      <th>4</th>\n",
       "      <td>40</td>\n",
       "      <td>0.02</td>\n",
       "      <td>3.387051</td>\n",
       "      <td>0.198510</td>\n",
       "    </tr>\n",
       "    <tr>\n",
       "      <th>5</th>\n",
       "      <td>50</td>\n",
       "      <td>0.02</td>\n",
       "      <td>5.263879</td>\n",
       "      <td>1.152222</td>\n",
       "    </tr>\n",
       "    <tr>\n",
       "      <th>6</th>\n",
       "      <td>60</td>\n",
       "      <td>0.02</td>\n",
       "      <td>6.042705</td>\n",
       "      <td>0.161827</td>\n",
       "    </tr>\n",
       "    <tr>\n",
       "      <th>7</th>\n",
       "      <td>70</td>\n",
       "      <td>0.02</td>\n",
       "      <td>7.939192</td>\n",
       "      <td>0.732011</td>\n",
       "    </tr>\n",
       "    <tr>\n",
       "      <th>8</th>\n",
       "      <td>80</td>\n",
       "      <td>0.02</td>\n",
       "      <td>8.221779</td>\n",
       "      <td>1.267329</td>\n",
       "    </tr>\n",
       "    <tr>\n",
       "      <th>9</th>\n",
       "      <td>90</td>\n",
       "      <td>0.02</td>\n",
       "      <td>8.578128</td>\n",
       "      <td>0.590908</td>\n",
       "    </tr>\n",
       "  </tbody>\n",
       "</table>\n",
       "</div>"
      ],
      "text/plain": [
       "   distance  err_distance      time  err_time\n",
       "0         0          0.02  0.000000  1.004810\n",
       "1        10          0.02  0.923422  0.637569\n",
       "2        20          0.02  2.178145  0.382366\n",
       "3        30          0.02  2.461897  0.911785\n",
       "4        40          0.02  3.387051  0.198510\n",
       "5        50          0.02  5.263879  1.152222\n",
       "6        60          0.02  6.042705  0.161827\n",
       "7        70          0.02  7.939192  0.732011\n",
       "8        80          0.02  8.221779  1.267329\n",
       "9        90          0.02  8.578128  0.590908"
      ]
     },
     "execution_count": 5,
     "metadata": {},
     "output_type": "execute_result"
    }
   ],
   "source": [
    "## have a look at the dataframe just to make sure we have what we wanted.\n",
    "data"
   ]
  },
  {
   "cell_type": "markdown",
   "metadata": {},
   "source": [
    "## Information:  nrows vs skipfooter\n",
    "In the `pd.read_excel` command above, I've used the argument `nrows=11`. This reads the 10 rows of data and the header row. If you're using a version of `pandas` older than 0.23.0 you can't use the `nrows` parameter, and should use `skipfooter` insted:\n",
    "```python\n",
    "data = pd.read_excel('BoltData.xlsx', \n",
    "                        names=('distance', 'err_distance', 'time', 'err_time'), \n",
    "                        usecols=(0,1,2,3), \n",
    "                        skipfooter=12)\n",
    "```\n",
    "This ignores the last 12 rows of the file. \n",
    "You can find out which version of `pandas` (or any package) you have by running\n",
    "```python\n",
    "pd.__version__\n",
    "```\n",
    "where `version` has 2 underscores on either side."
   ]
  },
  {
   "cell_type": "markdown",
   "metadata": {},
   "source": [
    "# Plotting, plotting, plotting....\n",
    "\n",
    "Now we have our data in a useful format we can start to look at it. \n",
    "\n",
    "To make a quick plot we use the `matplotlib.pyplot` package, that we loaded as `plt`.\n",
    "\n",
    "First make a plot with all the default settings to take a quick look at our data. You should always take a quick look at your data to make sure there aren't any suprises like weird points or typos.\n",
    "\n",
    "To plot the data from our dataframe, we call the columns we want to plot using \n",
    "```python\n",
    "plt.plot(dataframe.xcolumn, dataframe.ycolumn)\n",
    "```\n",
    "where `xcolumn` and `ycolumn` are the names of the columns we want to see."
   ]
  },
  {
   "cell_type": "code",
   "execution_count": 6,
   "metadata": {},
   "outputs": [
    {
     "data": {
      "text/plain": [
       "[<matplotlib.lines.Line2D at 0x7f7af9f45208>]"
      ]
     },
     "execution_count": 6,
     "metadata": {},
     "output_type": "execute_result"
    },
    {
     "data": {
      "image/png": "[encoded data removed]",
      "text/plain": [
       "<matplotlib.figure.Figure at 0x7f7af9fd9940>"
      ]
     },
     "metadata": {
      "image/png": {
       "height": 250,
       "width": 364
      }
     },
     "output_type": "display_data"
    }
   ],
   "source": [
    "# our first plot quick and easy just to see what the data looks like. plot(xcolumn, and ycolumn).\n",
    "plt.plot( data.distance , data.time )"
   ]
  },
  {
   "cell_type": "markdown",
   "metadata": {},
   "source": [
    "We can see from this quick plot that our data looks fine, but it's not particularly informative right now. We don't have axis labels, or errorbars, for example. We can now play around with different things in `plt` to add what we want to our plot."
   ]
  },
  {
   "cell_type": "markdown",
   "metadata": {},
   "source": [
    "## Making a pretty plot\n",
    "\n",
    "There are lots of parameters you can play around with in `plt`. We won't look at them all here, but will make a nice looking, informative plot that you can use as a template for your lab experiments."
   ]
  },
  {
   "cell_type": "markdown",
   "metadata": {},
   "source": [
    "### Changing the size\n",
    "\n",
    "It's handy to set up a `figure` object when you're making nice plots (as opposed to the quick-look one we made before). This will let you include subfigures, and change parameters that affect the whole figure. We can also set up the size and the aspect ratio here:\n",
    "```python\n",
    "fig = plt.figure(figsize=(10,6))\n",
    "```\n",
    "where the values passed to `figsize` are the width and height in inches. You don't need to worry too much about the absolute values, but you should make it big enough that it's easy to read and the aspect ratio makes sense."
   ]
  },
  {
   "cell_type": "markdown",
   "metadata": {},
   "source": [
    "### subplot\n",
    "\n",
    "Even if you only have one figure, you can use the `subplot` command. This lets you set the parameters in your plot (rather than the whole figure) by referring to the name of the subplot:\n",
    "```python\n",
    "ax = fig.add_subplot(nrows,ncols,index)\n",
    "```\n",
    "Here `nrows` is the number of rows of plots you want, ncols is the number of columns, and index tells it where to put the subplot, starting at 1 in the upper left corner and increasing to the right.\n",
    "So\n",
    "```python\n",
    "ax = fig.add_subplot(1,1,1)\n",
    "```\n",
    "will split your figure into 1 row, 1 column, and make the plot in the 1st position.\n",
    "```python\n",
    "ax = fig.add_subplot(2,3,4)\n",
    "```\n",
    "would split the figure into 2 rows and 3 columns, and make your plot in the lower left plot."
   ]
  },
  {
   "cell_type": "code",
   "execution_count": 7,
   "metadata": {},
   "outputs": [
    {
     "data": {
      "image/png": "[encoded data removed]",
      "text/plain": [
       "<matplotlib.figure.Figure at 0x7f7af9fa4358>"
      ]
     },
     "metadata": {
      "image/png": {
       "height": 360,
       "width": 603
      }
     },
     "output_type": "display_data"
    }
   ],
   "source": [
    "# Create a \"figure\" and set its aspect ratio. Play with the numbers to make it square, or long or short. \n",
    "fig = plt.figure(figsize=(10,6))\n",
    "\n",
    "# Here we only want one plot in the figure to a 1 by 1 set of plots and this is number 1. Leave alone for now. \n",
    "ax = fig.add_subplot(1,1,1)"
   ]
  },
  {
   "cell_type": "markdown",
   "metadata": {},
   "source": [
    "We now have an empty plot ready for data!"
   ]
  },
  {
   "cell_type": "markdown",
   "metadata": {},
   "source": [
    "## Plotting the data\n",
    "\n",
    "Any plot you make should be clear and informative. There are several things that you **always** need on a plot of your results:\n",
    "* Error bars\n",
    "* Axis labels\n",
    "* Units\n",
    "\n",
    "We can do this pretty easily with `plt`. First we call `errorbar` to plot our points and errorbars.\n",
    "\n",
    "This time, instead of calling `plt.errorbar`, we use `ax.errorbar`. This tells `plt` to add the points to the plot we already set up. \n",
    "```python\n",
    "ax.errorbar(data.distance,           \n",
    "             data.time,              \n",
    "             xerr=data.err_distance, \n",
    "             yerr=data.err_time,     \n",
    "             marker='o',             \n",
    "             markersize = 7,        \n",
    "             color='black',          \n",
    "             ecolor='black',         \n",
    "             markerfacecolor='black',\n",
    "             linestyle='none',       \n",
    "             capsize=6,              \n",
    "             )\n",
    "```\n",
    "Here were're calling `errorbar`, telling it which columns correspond to the `x` and `y` uncertainties and the size and shape, and colour of our points. `linestyle='none'` is telling it **not** to draw a line joining up all our points. `capsize` sets the size the end bars on the errorbars.\n",
    "This command looks pretty long, but we'll look later at how to set some parameters as defaults.\n",
    "\n",
    "\n",
    "Finally, we add the axis labels **including the units** using `ax.set_xlabel` and `ax.set_ylabel` so our plot actually means something. "
   ]
  },
  {
   "cell_type": "markdown",
   "metadata": {},
   "source": [
    "## Information: A word of warning about axis labels\n",
    "\n",
    "If you're setting the axis labels for a `subplot` like we are here you should use `ax.set_xlabel`. If you haven't set up subplots (for example, if you're just making a quick-look figure, you should use `plt.xlabel` instead. You'll know if you've used the wrong command if you get an error that looks like\n",
    "```python\n",
    "AttributeError: 'AxesSubplot' object has no attribute 'xlabel'\n",
    "```"
   ]
  },
  {
   "cell_type": "code",
   "execution_count": 8,
   "metadata": {},
   "outputs": [
    {
     "data": {
      "image/png": "[encoded data removed]",
      "text/plain": [
       "<matplotlib.figure.Figure at 0x7f7af9f2bd30>"
      ]
     },
     "metadata": {
      "image/png": {
       "height": 373,
       "width": 607
      }
     },
     "output_type": "display_data"
    }
   ],
   "source": [
    "fig = plt.figure(figsize=(10,6))\n",
    "ax = fig.add_subplot(1,1,1)\n",
    "ax.errorbar(data.distance,           # x coordinates\n",
    "             data.time,              # y coordinates\n",
    "             xerr=data.err_distance, # x errors\n",
    "             yerr=data.err_time,     # y errors\n",
    "             marker='o',             # marker used is a cicle 'o'. Could be crosses 'x', or squares 's', or 'none'\n",
    "             markersize = 7,        # marker size\n",
    "             color='black',          # overall colour I think\n",
    "             ecolor='black',         # edge colour for you marker\n",
    "             markerfacecolor='black',\n",
    "             linestyle='none',       # no line joining markers, could be a line '-', or a dashed line '--'\n",
    "             capsize=6,              # width of the end bit of the error bars, not too small nor too big please.\n",
    "             )\n",
    "#ax.set_xlabel('Distance run / m')  \n",
    "ax.set_xlabel('Distance run / m')# You can use Latex here is you wish, e.g., 'Distance run / 10$^{-3}$ km'\n",
    "ax.set_ylabel('Time / s')\n",
    "\n",
    "plt.show()"
   ]
  },
  {
   "cell_type": "markdown",
   "metadata": {},
   "source": [
    "## Making it fancy\n",
    "\n",
    "Now our plot is starting to look good! We can now add in some finishing touches\n",
    "\n",
    "### tick marks\n",
    "\n",
    "We can change the tick marks on the axes to go into the graph rather than out towards the numbers. This makes the plot easier to read. \n",
    "\n",
    "### font size\n",
    "\n",
    "The font size should be big enough that it's easy to read when it's printed or included in your lab report.\n",
    "\n",
    "To change the font size we use `plt.rcParams.update`. This changes the settings for all the text."
   ]
  },
  {
   "cell_type": "code",
   "execution_count": 9,
   "metadata": {},
   "outputs": [],
   "source": [
    "ax.tick_params(direction='in',      # I like 'in', could be 'out' or both 'inout'\n",
    "                length=7,            # A reasonable length\n",
    "                bottom='on',         # I want ticks on the bottom axes\n",
    "                left='on',\n",
    "                top='on',\n",
    "                right='on',\n",
    "                \n",
    "               )\n",
    "plt.rcParams.update({'font.size':15})   # A decent font size so the text is readible. \n",
    "                                        # You may have to play with the aspect ration aobe and this to get a nice \n",
    "                                        # looking figure in your report.\n"
   ]
  },
  {
   "cell_type": "markdown",
   "metadata": {},
   "source": [
    "# Fitting a line\n",
    "\n",
    "The last thing to do is to add a line of best fit to our plot. We can get a least-squares fit to our data using `curve_fit`.\n",
    "\n",
    "First we set up the function that we want to fit to our data:\n",
    "```python \n",
    "def line(x, slope, intercept):          \n",
    "    return slope*x + intercept\n",
    "```\n",
    "Here we've defined our `line` function to fit an equation of the form\n",
    "$$ y = m x + c $$\n",
    "to the data, where $m$ is the slope and $c$ is the intercept.\n",
    "Next we pass this function and the x and y data to `curve_fit`:\n",
    "```python\n",
    "popt, pcov = curve_fit(line,data.distance,data.time)\n",
    "```\n",
    "This will find the best fit line to our `distance` and `time` data and send the parameters to the `popt` and `pcov` variables."
   ]
  },
  {
   "cell_type": "markdown",
   "metadata": {},
   "source": [
    "## Information: popt, pcov\n",
    "`popt` and `pcov` are arrays that contain information about the best-fit line. `popt` contains the values of the slope and intercept.\n",
    "```python\n",
    "slope = popt[0]\n",
    "intercept = popt[1]\n",
    "```\n",
    "and `pcov` contains the variances\n",
    "```python\n",
    "err_slope = np.sqrt(float(pcov[0][0]))\n",
    "err_intercept = np.sqrt(float(pcov[1][1]))\n",
    "```"
   ]
  },
  {
   "cell_type": "code",
   "execution_count": 10,
   "metadata": {},
   "outputs": [],
   "source": [
    "def line(x, slope, intercept):          # Set up the linear fitting - don't ammend\n",
    "    return slope*x + intercept          # More set up, leave alone.\n",
    "\n",
    "# Next few line, fits a line to the (x data, and y data) no need to change things.\n",
    "popt, pcov = curve_fit(line,data.distance,data.time)\n",
    "slope = popt[0]\n",
    "intercept = popt[1]\n",
    "err_slope = np.sqrt(float(pcov[0][0]))\n",
    "err_intercept = np.sqrt(float(pcov[1][1]))"
   ]
  },
  {
   "cell_type": "code",
   "execution_count": 11,
   "metadata": {},
   "outputs": [
    {
     "name": "stdout",
     "output_type": "stream",
     "text": [
      "Slope: 0.103 +- 0.005\n",
      "Intercept: -0.129 +- 0.280\n"
     ]
    }
   ],
   "source": [
    "# Print to the screen the value of the slope and the error and then the intercept and the error.\n",
    "print('Slope: {0:.3f} +- {1:.3f}'.format(slope, err_slope))\n",
    "print('Intercept: {0:.3f} +- {1:.3f}'.format(intercept, err_intercept))"
   ]
  },
  {
   "cell_type": "markdown",
   "metadata": {},
   "source": [
    "# final plot\n",
    "\n",
    "Now we add everything together to get our nice final plot."
   ]
  },
  {
   "cell_type": "markdown",
   "metadata": {},
   "source": [
    "## Information:  Note\n",
    " All your `matplotlib` commands for a given plot should be in the same cell or you won't get anything out when you run `plt.show()`. "
   ]
  },
  {
   "cell_type": "code",
   "execution_count": 12,
   "metadata": {},
   "outputs": [
    {
     "data": {
      "image/png": "[encoded data removed]",
      "text/plain": [
       "<matplotlib.figure.Figure at 0x7f7af9f3ac18>"
      ]
     },
     "metadata": {
      "image/png": {
       "height": 382,
       "width": 614
      }
     },
     "output_type": "display_data"
    }
   ],
   "source": [
    "fig = plt.figure(figsize=(10,6))\n",
    "ax = fig.add_subplot(1,1,1)\n",
    "ax.errorbar(data.distance,           # x coordinates\n",
    "             data.time,              # y coordinates\n",
    "             xerr=data.err_distance, # x errors\n",
    "             yerr=data.err_time,     # y errors\n",
    "             marker='o',             # marker used is a cicle 'o'. Could be crosses 'x', or squares 's', or 'none'\n",
    "             markersize = 7,        # marker size\n",
    "             color='black',          # overall colour I think\n",
    "             ecolor='black',         # edge colour for you marker\n",
    "             markerfacecolor='black',\n",
    "             linestyle='none',       # no line joining markers, could be a line '-', or a dashed line '--'\n",
    "             capsize=6,  \n",
    "             label = \"Bolt data\"# width of the end bit of the error bars, not too small nor too big please.\n",
    "             )\n",
    "#ax.set_xlabel('Distance run / m')  \n",
    "ax.set_xlabel('Distance run / m')# You can use Latex here is you wish, e.g., 'Distance run / 10$^{-3}$ km'\n",
    "ax.set_ylabel('Time / s')\n",
    "\n",
    "ax.tick_params(direction='in',      # I like 'in', could be 'out' or both 'inout'\n",
    "                length=7,            # A reasonable length\n",
    "                bottom='on',         # I want ticks on the bottom axes\n",
    "                left='on',\n",
    "                top='on',\n",
    "                right='on',  \n",
    "               )\n",
    "ax.plot(data.distance, data.distance*slope+intercept, \n",
    "         linestyle='--',\n",
    "         color='black',\n",
    "         label='Best fit')\n",
    "handles, labels = ax.get_legend_handles_labels()\n",
    "ax.legend(handles[::-1],labels[::-1],loc=0, numpoints=1)\n",
    "annotation ='$t = {0:.3f} ( \\pm {1:.3f})d {2:+.3f} (\\pm {3:.3f})$'.format(slope, err_slope, intercept, err_intercept)\n",
    "ax.annotate(annotation, xy=(70, 1), xycoords='data', ha='center', bbox=dict(boxstyle=\"round\", fc=\"w\"))\n",
    "plt.show()"
   ]
  },
  {
   "cell_type": "code",
   "execution_count": 13,
   "metadata": {},
   "outputs": [],
   "source": [
    "fig.savefig('Basic.png', dpi=300) # save the graph to a file."
   ]
  },
  {
   "cell_type": "markdown",
   "metadata": {},
   "source": [
    "Now we have the data in the computer we can produce a nice graph of it. The code below has various comments to guide as to what's what. You can play with all the various settings to change the graph. Just keeping clicking the \"run\" button to see what your new version looks like. It you want more advanced stuff then you'll need to do more reading. See the help for matplotlib and have a look at the tutorials: http://blogs.bath.ac.uk/python/data-analysis-with-jupyter-notebooks/"
   ]
  },
  {
   "cell_type": "markdown",
   "metadata": {},
   "source": [
    "## Key points:\n",
    "* You can use Jupyter notebooks just like you would use a lab book\n",
    "* Read in data with `pandas`\n",
    "* Make your plots with `matplotlib`\n",
    "* Errorbars!\n"
   ]
  },
  {
   "cell_type": "code",
   "execution_count": null,
   "metadata": {},
   "outputs": [],
   "source": []
  }
 ],
 "metadata": {
  "kernelspec": {
   "display_name": "Python 3",
   "language": "python",
   "name": "python3"
  },
  "language_info": {
   "codemirror_mode": {
    "name": "ipython",
    "version": 3
   },
   "file_extension": ".py",
   "mimetype": "text/x-python",
   "name": "python",
   "nbconvert_exporter": "python",
   "pygments_lexer": "ipython3",
   "version": "3.5.4"
  }
 },
 "nbformat": 4,
 "nbformat_minor": 2
}
