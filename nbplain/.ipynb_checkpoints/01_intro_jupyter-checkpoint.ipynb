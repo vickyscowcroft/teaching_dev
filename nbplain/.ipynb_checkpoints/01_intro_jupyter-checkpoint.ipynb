{
 "cells": [
  {
   "cell_type": "markdown",
   "metadata": {
    "slideshow": {
     "slide_type": "slide"
    }
   },
   "source": [
    "# Intro to Jupyter Notebooks"
   ]
  },
  {
   "cell_type": "markdown",
   "metadata": {
    "slideshow": {
     "slide_type": "subslide"
    }
   },
   "source": [
    "## Overview: \n",
    "- **Teaching:** 5 min\n",
    "- **Exercises:** 0 min\n",
    "\n",
    "**Questions**\n",
    "- What are Jupyter notebooks?\n",
    "- What is markdown?\n",
    "\n",
    "**Objectives**\n",
    "- Learn about Jupyter notebooks and markdown \n"
   ]
  },
  {
   "cell_type": "markdown",
   "metadata": {
    "slideshow": {
     "slide_type": "slide"
    }
   },
   "source": [
    "## What are Jupyter notebooks?\n",
    "You can use Jupyter notebooks like a lab book. It's important to write down what you're doing in your experiment and analysis; when you come back to a notebook at a later date with no recollection of what you did before, you'll thank your past self for making such clear notes.\n",
    "To \"run\" a cell, either press the `Run` button at the top, or press `Shift-Enter`."
   ]
  },
  {
   "cell_type": "markdown",
   "metadata": {},
   "source": [
    "## What is markdown?\n",
    "Jupyter notebooks (i.e. the file you're working with now) allow for different types of 'cells'. Markdown cells (like this one) are great for documenting what you're doing. If you've ever posted on an internet forum, you've probably already used markdown, although you may not have realised it! \n",
    "\n",
    "You can make headings of different sizes using \\# at the start of a line.\n",
    "# big (\\#)\n",
    "## medium (\\##)\n",
    "### small (\\###)\n",
    "\n",
    "You can make text *italic* using one \\* at each end of the text. **Bold** uses two \\*\\*.\n",
    "\n",
    "Making lists is easy too!\n",
    "\n",
    "* bulleted lists \n",
    "* are made by putting\n",
    "* \\* (asterix) at the start of a line\n",
    "- or maybe \n",
    "- a dash (\\-)\n",
    "- you don't even need to be consistent.\n",
    "\n",
    "\n",
    "1. Numbered lists\n",
    "2. Just by numbering things\n",
    "3. i.e. 1., 2., at the start of a line\n",
    "7. and it doesn't matter\n",
    "4. if your numbers are in the right order\n",
    "\n",
    "(The list above was numbered 1, 2, 3, 7, 4)\n",
    "\n",
    "A nice markdown cheatsheet can be found [here](https://en.support.wordpress.com/markdown-quick-reference/, \"markdown cheatsheet\") \n",
    "\n",
    "You can look at the raw text that made this cell by double-clicking the cell."
   ]
  },
  {
   "cell_type": "markdown",
   "metadata": {
    "slideshow": {
     "slide_type": "slide"
    }
   },
   "source": [
    "## Key Points:\n",
    "- Jupyter notebooks are great for lab books\n",
    "- You can write notes in markdown"
   ]
  },
  {
   "cell_type": "code",
   "execution_count": null,
   "metadata": {},
   "outputs": [],
   "source": []
  }
 ],
 "metadata": {
  "celltoolbar": "Slideshow",
  "kernelspec": {
   "display_name": "Python 3",
   "language": "python",
   "name": "python3"
  },
  "language_info": {
   "codemirror_mode": {
    "name": "ipython",
    "version": 3
   },
   "file_extension": ".py",
   "mimetype": "text/x-python",
   "name": "python",
   "nbconvert_exporter": "python",
   "pygments_lexer": "ipython3",
   "version": "3.7.3"
  }
 },
 "nbformat": 4,
 "nbformat_minor": 2
}
