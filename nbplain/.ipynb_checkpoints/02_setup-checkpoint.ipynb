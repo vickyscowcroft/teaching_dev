{
 "cells": [
  {
   "cell_type": "markdown",
   "metadata": {
    "slideshow": {
     "slide_type": "slide"
    }
   },
   "source": [
    "# Setting up your notebook"
   ]
  },
  {
   "cell_type": "markdown",
   "metadata": {
    "slideshow": {
     "slide_type": "slide"
    }
   },
   "source": [
    "## Overview:\n",
    "- **Teaching:** 5 min\n",
    "- **Exercises:** 0 min\n",
    "\n",
    "**Questions**\n",
    "- Ask some questions?\n",
    "\n",
    "**Objectives**\n",
    "- Loading modules\n",
    "- Magic commands"
   ]
  },
  {
   "cell_type": "markdown",
   "metadata": {},
   "source": [
    "# Importing python packages\n",
    "\n",
    "Python routines exist in packages. The first thing to do is to load the packages you need for your analysis using \n",
    "```python\n",
    "import modulename\n",
    "``` \n",
    "In the next cell we import the packages needed to plot a graph and fit a line to our data. \n",
    "You'll notice that some packages are loaded slightly differently, e.g.\n",
    "```python\n",
    "import matplotlib.pyplot as plt\n",
    "``` \n",
    "Here we're loading the `pyplot` sub-package of `matplotlib`. So we don't need to type `matplotlib.pyplot` every time we want to use it, we load it as `plt`."
   ]
  },
  {
   "cell_type": "markdown",
   "metadata": {
    "slideshow": {
     "slide_type": "slide"
    }
   },
   "source": [
    "## Information: Short names\n",
    "You can call packages whatever you want when you load them with `import package as name`, but some packages have commonly used short names. It's good to get in the habit of using the common short names; it makes using examples from the internet much easier!\n",
    "\n",
    "| Package name        | Short name |\n",
    "|---------------------|-----------:|\n",
    "| `numpy`             |       `np` |\n",
    "| `matplotlib.pyplot` |      `plt` |\n",
    "| `pandas`            |       `pd` |"
   ]
  },
  {
   "cell_type": "code",
   "execution_count": 1,
   "metadata": {},
   "outputs": [],
   "source": [
    "## Some code that imports all the various packages that we will need. \n",
    "\n",
    "import matplotlib.pyplot as plt ### plotting things\n",
    "import numpy as np ## one of python's main maths packages\n",
    "import pandas as pd ## for reading in our data\n",
    "from scipy.optimize import curve_fit ## for fitting a line to our data\n",
    "import matplotlib.ticker as ticker ## this one lets us change some parameters in our plots.\n"
   ]
  },
  {
   "cell_type": "markdown",
   "metadata": {},
   "source": [
    "## Magic commands\n",
    "\n",
    "Jupyter notebooks have special commands called `magic` commands. You can use these to configure settings. Magic commands always start with a `%` sign.\n",
    "\n",
    "The last two lines in the next cell, starting with `%` are called **magic commands**. You don't need many of them, but the `inline` and `retina` ones are pretty handy. `inline` makes our plots show up inline in our notebook, and `retina` sets up our notebook for high-resolution displays. A guide to magic commands can be found [here](https://ipython.readthedocs.io/en/stable/interactive/magics.html, \"magic commands\")\n"
   ]
  },
  {
   "cell_type": "code",
   "execution_count": 2,
   "metadata": {},
   "outputs": [],
   "source": [
    "%matplotlib inline \n",
    "%config InlineBackend.figure_format = 'retina' "
   ]
  },
  {
   "cell_type": "markdown",
   "metadata": {
    "slideshow": {
     "slide_type": "slide"
    }
   },
   "source": [
    "## Key Points:\n",
    "- Packages are loaded with `import`\n",
    "- You can load packages with shortnames using `import packagename as sn`\n",
    "- `magic` commands can be used to set up your notebook"
   ]
  },
  {
   "cell_type": "code",
   "execution_count": null,
   "metadata": {},
   "outputs": [],
   "source": []
  }
 ],
 "metadata": {
  "celltoolbar": "Slideshow",
  "kernelspec": {
   "display_name": "Python 3",
   "language": "python",
   "name": "python3"
  },
  "language_info": {
   "codemirror_mode": {
    "name": "ipython",
    "version": 3
   },
   "file_extension": ".py",
   "mimetype": "text/x-python",
   "name": "python",
   "nbconvert_exporter": "python",
   "pygments_lexer": "ipython3",
   "version": "3.7.3"
  }
 },
 "nbformat": 4,
 "nbformat_minor": 2
}
